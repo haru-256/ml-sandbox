{
 "cells": [
  {
   "cell_type": "markdown",
   "metadata": {},
   "source": [
    "# Dataset"
   ]
  },
  {
   "cell_type": "code",
   "execution_count": 1,
   "metadata": {},
   "outputs": [],
   "source": [
    "import pathlib\n",
    "import sys\n",
    "\n",
    "import polars as pl\n",
    "from tqdm.notebook import tqdm\n",
    "\n",
    "parent_dir = pathlib.Path(\"../\").resolve()\n",
    "\n",
    "if str(parent_dir) not in sys.path:\n",
    "    sys.path.append(str(parent_dir))\n",
    "\n",
    "from data.dataset import AmazonReviewsDataModule"
   ]
  },
  {
   "cell_type": "code",
   "execution_count": 2,
   "metadata": {},
   "outputs": [],
   "source": [
    "save_dir = pathlib.Path(\"../data/data\")\n",
    "if not save_dir.exists():\n",
    "    save_dir.mkdir(parents=True)\n",
    "\n",
    "datamodule = AmazonReviewsDataModule(save_dir, batch_size=32, num_workers=4, max_seq_len=50)"
   ]
  },
  {
   "cell_type": "code",
   "execution_count": 3,
   "metadata": {},
   "outputs": [],
   "source": [
    "datamodule.prepare_data()"
   ]
  },
  {
   "cell_type": "code",
   "execution_count": 4,
   "metadata": {},
   "outputs": [],
   "source": [
    "datamodule.setup(stage=\"fit\")"
   ]
  },
  {
   "cell_type": "code",
   "execution_count": 5,
   "metadata": {},
   "outputs": [],
   "source": [
    "train_dataset = datamodule.train_dataset\n",
    "train_df = datamodule.train_dataset.df\n",
    "val_df = datamodule.val_dataset.df"
   ]
  },
  {
   "cell_type": "code",
   "execution_count": 6,
   "metadata": {},
   "outputs": [
    {
     "data": {
      "text/plain": [
       "(715329, 329719)"
      ]
     },
     "execution_count": 6,
     "metadata": {},
     "output_type": "execute_result"
    }
   ],
   "source": [
    "# dataset\n",
    "\n",
    "len(datamodule.train_dataset), len(datamodule.val_dataset)"
   ]
  },
  {
   "cell_type": "code",
   "execution_count": 7,
   "metadata": {},
   "outputs": [
    {
     "name": "stdout",
     "output_type": "stream",
     "text": [
      "=== train ===\n",
      "Users: 182215, Items: 71227, Categories: 489\n",
      "=== val ===\n",
      "Users: 182216, Items: 41230, Categories: 475\n"
     ]
    }
   ],
   "source": [
    "# users and items\n",
    "def n_unique(df: pl.DataFrame):\n",
    "    users = df.select(pl.col(\"user_index\")).n_unique()\n",
    "    items = df.select(pl.col(\"item_index\")).n_unique()\n",
    "    categories = df.select(pl.col(\"category_index\")).n_unique()\n",
    "    print(f\"Users: {users}, Items: {items}, Categories: {categories}\")\n",
    "\n",
    "print(\"=== train ===\")\n",
    "n_unique(train_df)\n",
    "print(\"=== val ===\")\n",
    "n_unique(val_df)"
   ]
  },
  {
   "cell_type": "code",
   "execution_count": 8,
   "metadata": {},
   "outputs": [
    {
     "data": {
      "text/plain": [
       "[tensor([168603,  95594,  41115, 145837,   4063,  23281,  95346,  33739, 145244,\n",
       "         121128,  97979,  76836, 108346, 177842, 149325,  27740,  52481,  93631,\n",
       "          95124,  74745,  89975, 152833, 143212, 102232,  16757,  81967, 114408,\n",
       "          43056,  63656, 138438,  69835,   6150]),\n",
       " tensor([[    0,     0,     0,  ..., 64321, 66186, 78069],\n",
       "         [    0,     0,     0,  ...,     0,     0, 26116],\n",
       "         [    0,     0,     0,  ..., 40706, 67083, 47777],\n",
       "         ...,\n",
       "         [    0,     0,     0,  ...,     0,     0, 19611],\n",
       "         [    0,     0,     0,  ..., 44626, 41041, 37816],\n",
       "         [    0,     0,     0,  ...,     0, 27471, 22159]]),\n",
       " tensor([[  0,   0,   0,  ..., 347, 351, 345],\n",
       "         [  0,   0,   0,  ...,   0,   0, 361],\n",
       "         [  0,   0,   0,  ..., 474, 401, 401],\n",
       "         ...,\n",
       "         [  0,   0,   0,  ...,   0,   0, 192],\n",
       "         [  0,   0,   0,  ..., 325, 159, 147],\n",
       "         [  0,   0,   0,  ...,   0, 375, 375]]),\n",
       " tensor([[76543],\n",
       "         [41611],\n",
       "         [57693],\n",
       "         [12774],\n",
       "         [33427],\n",
       "         [34532],\n",
       "         [65108],\n",
       "         [28783],\n",
       "         [15388],\n",
       "         [57731],\n",
       "         [46485],\n",
       "         [63576],\n",
       "         [70179],\n",
       "         [36702],\n",
       "         [ 4090],\n",
       "         [28388],\n",
       "         [77855],\n",
       "         [38632],\n",
       "         [23538],\n",
       "         [29768],\n",
       "         [17953],\n",
       "         [ 1430],\n",
       "         [23457],\n",
       "         [35785],\n",
       "         [33974],\n",
       "         [36916],\n",
       "         [10701],\n",
       "         [18079],\n",
       "         [73441],\n",
       "         [18421],\n",
       "         [36971],\n",
       "         [ 6794]]),\n",
       " tensor([[348],\n",
       "         [ 89],\n",
       "         [401],\n",
       "         [375],\n",
       "         [  1],\n",
       "         [373],\n",
       "         [366],\n",
       "         [237],\n",
       "         [325],\n",
       "         [  1],\n",
       "         [333],\n",
       "         [354],\n",
       "         [355],\n",
       "         [401],\n",
       "         [367],\n",
       "         [325],\n",
       "         [374],\n",
       "         [474],\n",
       "         [317],\n",
       "         [304],\n",
       "         [190],\n",
       "         [112],\n",
       "         [375],\n",
       "         [228],\n",
       "         [475],\n",
       "         [401],\n",
       "         [375],\n",
       "         [325],\n",
       "         [473],\n",
       "         [325],\n",
       "         [158],\n",
       "         [375]]),\n",
       " tensor([[48555],\n",
       "         [13370],\n",
       "         [47109],\n",
       "         [46600],\n",
       "         [39433],\n",
       "         [15236],\n",
       "         [62749],\n",
       "         [ 2786],\n",
       "         [74473],\n",
       "         [44640],\n",
       "         [74380],\n",
       "         [38468],\n",
       "         [18151],\n",
       "         [33957],\n",
       "         [77930],\n",
       "         [13523],\n",
       "         [73556],\n",
       "         [54340],\n",
       "         [66792],\n",
       "         [32403],\n",
       "         [45151],\n",
       "         [59856],\n",
       "         [65034],\n",
       "         [34310],\n",
       "         [15220],\n",
       "         [73385],\n",
       "         [35361],\n",
       "         [ 7589],\n",
       "         [68205],\n",
       "         [54599],\n",
       "         [69036],\n",
       "         [20566]]),\n",
       " tensor([[392],\n",
       "         [375],\n",
       "         [ 94],\n",
       "         [192],\n",
       "         [ 77],\n",
       "         [224],\n",
       "         [345],\n",
       "         [276],\n",
       "         [344],\n",
       "         [401],\n",
       "         [327],\n",
       "         [228],\n",
       "         [197],\n",
       "         [372],\n",
       "         [373],\n",
       "         [228],\n",
       "         [373],\n",
       "         [ 57],\n",
       "         [456],\n",
       "         [208],\n",
       "         [368],\n",
       "         [401],\n",
       "         [353],\n",
       "         [135],\n",
       "         [364],\n",
       "         [374],\n",
       "         [  1],\n",
       "         [249],\n",
       "         [372],\n",
       "         [342],\n",
       "         [  1],\n",
       "         [126]])]"
      ]
     },
     "execution_count": 8,
     "metadata": {},
     "output_type": "execute_result"
    }
   ],
   "source": [
    "batch = next(iter(datamodule.train_dataloader()))\n",
    "batch"
   ]
  },
  {
   "cell_type": "code",
   "execution_count": 9,
   "metadata": {},
   "outputs": [
    {
     "data": {
      "application/vnd.jupyter.widget-view+json": {
       "model_id": "53a287064eda4281ba7c91017b27e3ef",
       "version_major": 2,
       "version_minor": 0
      },
      "text/plain": [
       "  0%|          | 0/22355 [00:00<?, ?it/s]"
      ]
     },
     "metadata": {},
     "output_type": "display_data"
    },
    {
     "name": "stdout",
     "output_type": "stream",
     "text": [
      "CPU times: user 18.7 s, sys: 13 s, total: 31.7 s\n",
      "Wall time: 3min 28s\n"
     ]
    }
   ],
   "source": [
    "%%time\n",
    "\n",
    "# check dataloader speed\n",
    "for batch in tqdm(datamodule.train_dataloader()):\n",
    "    pass\n"
   ]
  }
 ],
 "metadata": {
  "kernelspec": {
   "display_name": ".venv",
   "language": "python",
   "name": "python3"
  },
  "language_info": {
   "codemirror_mode": {
    "name": "ipython",
    "version": 3
   },
   "file_extension": ".py",
   "mimetype": "text/x-python",
   "name": "python",
   "nbconvert_exporter": "python",
   "pygments_lexer": "ipython3",
   "version": "3.12.5"
  }
 },
 "nbformat": 4,
 "nbformat_minor": 2
}
