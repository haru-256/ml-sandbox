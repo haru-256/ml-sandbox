{
 "cells": [
  {
   "cell_type": "markdown",
   "metadata": {},
   "source": [
    "# Amazon Reviews 2023\n",
    "\n",
    "[Amazon Reviews 2023](https://github.com/hyp1231/AmazonReviews2023)\n"
   ]
  },
  {
   "cell_type": "code",
   "execution_count": 1,
   "metadata": {},
   "outputs": [],
   "source": [
    "import pathlib\n",
    "import sys\n",
    "\n",
    "import polars as pl\n",
    "from tqdm.notebook import tqdm\n",
    "\n",
    "sys.path.append(\"..\")\n",
    "\n",
    "from data.dataset import AmazonReviewsDataModule"
   ]
  },
  {
   "cell_type": "code",
   "execution_count": 2,
   "metadata": {},
   "outputs": [],
   "source": [
    "save_dir = pathlib.Path(\"../data/data\")\n",
    "if not save_dir.exists():\n",
    "    save_dir.mkdir(parents=True)\n",
    "\n",
    "datamodule = AmazonReviewsDataModule(save_dir, batch_size=32, num_workers=1, max_seq_len=50)"
   ]
  },
  {
   "cell_type": "code",
   "execution_count": 3,
   "metadata": {},
   "outputs": [],
   "source": [
    "datamodule.prepare_data()"
   ]
  },
  {
   "cell_type": "code",
   "execution_count": 4,
   "metadata": {},
   "outputs": [
    {
     "data": {
      "text/html": [
       "<div><style>\n",
       ".dataframe > thead > tr,\n",
       ".dataframe > tbody > tr {\n",
       "  text-align: right;\n",
       "  white-space: pre-wrap;\n",
       "}\n",
       "</style>\n",
       "<small>shape: (715_329, 10)</small><table border=\"1\" class=\"dataframe\"><thead><tr><th>user_id</th><th>user_index</th><th>parent_asin</th><th>item_index</th><th>category</th><th>category_index</th><th>rating</th><th>timestamp</th><th>history</th><th>history_index</th></tr><tr><td>str</td><td>i64</td><td>str</td><td>i64</td><td>str</td><td>i64</td><td>f64</td><td>i64</td><td>list[str]</td><td>list[i64]</td></tr></thead><tbody><tr><td>&quot;AG6BAEKWLCWH2TW3KKLVK773YF6A&quot;</td><td>175401</td><td>&quot;B001AW156U&quot;</td><td>17482</td><td>null</td><td>1</td><td>4.0</td><td>1523314072900</td><td>[&quot;B0B36HX334&quot;]</td><td>[79632]</td></tr><tr><td>&quot;AEVPPTMG43C6GWSR7I2UGRQN7WFQ&quot;</td><td>71288</td><td>&quot;B0863MT183&quot;</td><td>67248</td><td>&quot;Video Games/PC/Virtual Reality…</td><td>382</td><td>4.0</td><td>1613701986538</td><td>[&quot;B08R5B7YS4&quot;]</td><td>[72161]</td></tr><tr><td>&quot;AEVPPTMG43C6GWSR7I2UGRQN7WFQ&quot;</td><td>71288</td><td>&quot;B08P8P7686&quot;</td><td>71655</td><td>&quot;Video Games/PC/Virtual Reality…</td><td>382</td><td>5.0</td><td>1613702112995</td><td>[&quot;B08R5B7YS4&quot;, &quot;B0863MT183&quot;]</td><td>[72161, 67248]</td></tr><tr><td>&quot;AEVPPTMG43C6GWSR7I2UGRQN7WFQ&quot;</td><td>71288</td><td>&quot;B0B7LV3DN2&quot;</td><td>80281</td><td>&quot;Video Games/PC/Virtual Reality…</td><td>382</td><td>4.0</td><td>1617641445475</td><td>[&quot;B08R5B7YS4&quot;, &quot;B0863MT183&quot;, &quot;B08P8P7686&quot;]</td><td>[72161, 67248, 71655]</td></tr><tr><td>&quot;AEVPPTMG43C6GWSR7I2UGRQN7WFQ&quot;</td><td>71288</td><td>&quot;B08SM7T6FF&quot;</td><td>72527</td><td>&quot;Video Games/PC&quot;</td><td>366</td><td>1.0</td><td>1619227636331</td><td>[&quot;B08R5B7YS4&quot;, &quot;B0863MT183&quot;, … &quot;B0B7LV3DN2&quot;]</td><td>[72161, 67248, … 80281]</td></tr><tr><td>&hellip;</td><td>&hellip;</td><td>&hellip;</td><td>&hellip;</td><td>&hellip;</td><td>&hellip;</td><td>&hellip;</td><td>&hellip;</td><td>&hellip;</td><td>&hellip;</td></tr><tr><td>&quot;AGVVUTPA6B5UP37MQHOXF3GI2BYA&quot;</td><td>236498</td><td>&quot;B00OU0G4RO&quot;</td><td>40431</td><td>&quot;Video Games/PC&quot;</td><td>366</td><td>5.0</td><td>1478582583000</td><td>[&quot;B00EP2WNKY&quot;, &quot;B000HVDEQO&quot;]</td><td>[35368, 13641]</td></tr><tr><td>&quot;AGVVUTPA6B5UP37MQHOXF3GI2BYA&quot;</td><td>236498</td><td>&quot;B00005AG1J&quot;</td><td>4464</td><td>&quot;Video Games/PC/Games&quot;</td><td>377</td><td>4.0</td><td>1478582677000</td><td>[&quot;B00EP2WNKY&quot;, &quot;B000HVDEQO&quot;, &quot;B00OU0G4RO&quot;]</td><td>[35368, 13641, 40431]</td></tr><tr><td>&quot;AGVVUTPA6B5UP37MQHOXF3GI2BYA&quot;</td><td>236498</td><td>&quot;B000040OEI&quot;</td><td>2852</td><td>&quot;Video Games/PC/Games&quot;</td><td>377</td><td>5.0</td><td>1478582705000</td><td>[&quot;B00EP2WNKY&quot;, &quot;B000HVDEQO&quot;, … &quot;B00005AG1J&quot;]</td><td>[35368, 13641, … 4464]</td></tr><tr><td>&quot;AH64224B4V54D7AK37ZHDNCIKD6Q&quot;</td><td>257840</td><td>&quot;B001EYUPHO&quot;</td><td>18631</td><td>&quot;Video Games/Legacy Systems/Pla…</td><td>199</td><td>1.0</td><td>1230749491000</td><td>[&quot;B000VV9T7S&quot;]</td><td>[15897]</td></tr><tr><td>&quot;AGNHORX2IQC36EIX5RFURAM5FMWQ&quot;</td><td>214642</td><td>&quot;B001M5I4GO&quot;</td><td>20131</td><td>null</td><td>1</td><td>5.0</td><td>1424217608000</td><td>[&quot;B001ELJE56&quot;]</td><td>[18205]</td></tr></tbody></table></div>"
      ],
      "text/plain": [
       "shape: (715_329, 10)\n",
       "┌────────────┬────────────┬───────────┬───────────┬───┬────────┬───────────┬───────────┬───────────┐\n",
       "│ user_id    ┆ user_index ┆ parent_as ┆ item_inde ┆ … ┆ rating ┆ timestamp ┆ history   ┆ history_i │\n",
       "│ ---        ┆ ---        ┆ in        ┆ x         ┆   ┆ ---    ┆ ---       ┆ ---       ┆ ndex      │\n",
       "│ str        ┆ i64        ┆ ---       ┆ ---       ┆   ┆ f64    ┆ i64       ┆ list[str] ┆ ---       │\n",
       "│            ┆            ┆ str       ┆ i64       ┆   ┆        ┆           ┆           ┆ list[i64] │\n",
       "╞════════════╪════════════╪═══════════╪═══════════╪═══╪════════╪═══════════╪═══════════╪═══════════╡\n",
       "│ AG6BAEKWLC ┆ 175401     ┆ B001AW156 ┆ 17482     ┆ … ┆ 4.0    ┆ 152331407 ┆ [\"B0B36HX ┆ [79632]   │\n",
       "│ WH2TW3KKLV ┆            ┆ U         ┆           ┆   ┆        ┆ 2900      ┆ 334\"]     ┆           │\n",
       "│ K773YF6A   ┆            ┆           ┆           ┆   ┆        ┆           ┆           ┆           │\n",
       "│ AEVPPTMG43 ┆ 71288      ┆ B0863MT18 ┆ 67248     ┆ … ┆ 4.0    ┆ 161370198 ┆ [\"B08R5B7 ┆ [72161]   │\n",
       "│ C6GWSR7I2U ┆            ┆ 3         ┆           ┆   ┆        ┆ 6538      ┆ YS4\"]     ┆           │\n",
       "│ GRQN7WFQ   ┆            ┆           ┆           ┆   ┆        ┆           ┆           ┆           │\n",
       "│ AEVPPTMG43 ┆ 71288      ┆ B08P8P768 ┆ 71655     ┆ … ┆ 5.0    ┆ 161370211 ┆ [\"B08R5B7 ┆ [72161,   │\n",
       "│ C6GWSR7I2U ┆            ┆ 6         ┆           ┆   ┆        ┆ 2995      ┆ YS4\", \"B0 ┆ 67248]    │\n",
       "│ GRQN7WFQ   ┆            ┆           ┆           ┆   ┆        ┆           ┆ 863MT183\" ┆           │\n",
       "│            ┆            ┆           ┆           ┆   ┆        ┆           ┆ ]         ┆           │\n",
       "│ AEVPPTMG43 ┆ 71288      ┆ B0B7LV3DN ┆ 80281     ┆ … ┆ 4.0    ┆ 161764144 ┆ [\"B08R5B7 ┆ [72161,   │\n",
       "│ C6GWSR7I2U ┆            ┆ 2         ┆           ┆   ┆        ┆ 5475      ┆ YS4\", \"B0 ┆ 67248,    │\n",
       "│ GRQN7WFQ   ┆            ┆           ┆           ┆   ┆        ┆           ┆ 863MT183\" ┆ 71655]    │\n",
       "│            ┆            ┆           ┆           ┆   ┆        ┆           ┆ , \"…      ┆           │\n",
       "│ AEVPPTMG43 ┆ 71288      ┆ B08SM7T6F ┆ 72527     ┆ … ┆ 1.0    ┆ 161922763 ┆ [\"B08R5B7 ┆ [72161,   │\n",
       "│ C6GWSR7I2U ┆            ┆ F         ┆           ┆   ┆        ┆ 6331      ┆ YS4\", \"B0 ┆ 67248, …  │\n",
       "│ GRQN7WFQ   ┆            ┆           ┆           ┆   ┆        ┆           ┆ 863MT183\" ┆ 80281]    │\n",
       "│            ┆            ┆           ┆           ┆   ┆        ┆           ┆ , ……      ┆           │\n",
       "│ …          ┆ …          ┆ …         ┆ …         ┆ … ┆ …      ┆ …         ┆ …         ┆ …         │\n",
       "│ AGVVUTPA6B ┆ 236498     ┆ B00OU0G4R ┆ 40431     ┆ … ┆ 5.0    ┆ 147858258 ┆ [\"B00EP2W ┆ [35368,   │\n",
       "│ 5UP37MQHOX ┆            ┆ O         ┆           ┆   ┆        ┆ 3000      ┆ NKY\", \"B0 ┆ 13641]    │\n",
       "│ F3GI2BYA   ┆            ┆           ┆           ┆   ┆        ┆           ┆ 00HVDEQO\" ┆           │\n",
       "│            ┆            ┆           ┆           ┆   ┆        ┆           ┆ ]         ┆           │\n",
       "│ AGVVUTPA6B ┆ 236498     ┆ B00005AG1 ┆ 4464      ┆ … ┆ 4.0    ┆ 147858267 ┆ [\"B00EP2W ┆ [35368,   │\n",
       "│ 5UP37MQHOX ┆            ┆ J         ┆           ┆   ┆        ┆ 7000      ┆ NKY\", \"B0 ┆ 13641,    │\n",
       "│ F3GI2BYA   ┆            ┆           ┆           ┆   ┆        ┆           ┆ 00HVDEQO\" ┆ 40431]    │\n",
       "│            ┆            ┆           ┆           ┆   ┆        ┆           ┆ , \"…      ┆           │\n",
       "│ AGVVUTPA6B ┆ 236498     ┆ B000040OE ┆ 2852      ┆ … ┆ 5.0    ┆ 147858270 ┆ [\"B00EP2W ┆ [35368,   │\n",
       "│ 5UP37MQHOX ┆            ┆ I         ┆           ┆   ┆        ┆ 5000      ┆ NKY\", \"B0 ┆ 13641, …  │\n",
       "│ F3GI2BYA   ┆            ┆           ┆           ┆   ┆        ┆           ┆ 00HVDEQO\" ┆ 4464]     │\n",
       "│            ┆            ┆           ┆           ┆   ┆        ┆           ┆ , ……      ┆           │\n",
       "│ AH64224B4V ┆ 257840     ┆ B001EYUPH ┆ 18631     ┆ … ┆ 1.0    ┆ 123074949 ┆ [\"B000VV9 ┆ [15897]   │\n",
       "│ 54D7AK37ZH ┆            ┆ O         ┆           ┆   ┆        ┆ 1000      ┆ T7S\"]     ┆           │\n",
       "│ DNCIKD6Q   ┆            ┆           ┆           ┆   ┆        ┆           ┆           ┆           │\n",
       "│ AGNHORX2IQ ┆ 214642     ┆ B001M5I4G ┆ 20131     ┆ … ┆ 5.0    ┆ 142421760 ┆ [\"B001ELJ ┆ [18205]   │\n",
       "│ C36EIX5RFU ┆            ┆ O         ┆           ┆   ┆        ┆ 8000      ┆ E56\"]     ┆           │\n",
       "│ RAM5FMWQ   ┆            ┆           ┆           ┆   ┆        ┆           ┆           ┆           │\n",
       "└────────────┴────────────┴───────────┴───────────┴───┴────────┴───────────┴───────────┴───────────┘"
      ]
     },
     "execution_count": 4,
     "metadata": {},
     "output_type": "execute_result"
    }
   ],
   "source": [
    "datamodule.train_df"
   ]
  },
  {
   "cell_type": "code",
   "execution_count": 5,
   "metadata": {},
   "outputs": [],
   "source": [
    "datamodule.setup(stage=\"fit\")"
   ]
  },
  {
   "cell_type": "code",
   "execution_count": 6,
   "metadata": {},
   "outputs": [
    {
     "data": {
      "text/plain": [
       "(tensor(175401),\n",
       " tensor([    0,     0,     0,     0,     0,     0,     0,     0,     0,     0,\n",
       "             0,     0,     0,     0,     0,     0,     0,     0,     0,     0,\n",
       "             0,     0,     0,     0,     0,     0,     0,     0,     0,     0,\n",
       "             0,     0,     0,     0,     0,     0,     0,     0,     0,     0,\n",
       "             0,     0,     0,     0,     0,     0,     0,     0,     0, 79632]),\n",
       " tensor([17482]),\n",
       " tensor(1),\n",
       " tensor([51860]),\n",
       " tensor([398]))"
      ]
     },
     "execution_count": 6,
     "metadata": {},
     "output_type": "execute_result"
    }
   ],
   "source": [
    "datamodule.train_dataset[0]"
   ]
  },
  {
   "cell_type": "code",
   "execution_count": 7,
   "metadata": {},
   "outputs": [
    {
     "data": {
      "text/plain": [
       "(tensor(71288),\n",
       " tensor([    0,     0,     0,     0,     0,     0,     0,     0,     0,     0,\n",
       "             0,     0,     0,     0,     0,     0,     0,     0,     0,     0,\n",
       "             0,     0,     0,     0,     0,     0,     0,     0,     0,     0,\n",
       "             0,     0,     0,     0,     0,     0,     0,     0,     0,     0,\n",
       "             0,     0,     0,     0,     0,     0,     0,     0,     0, 72161]),\n",
       " tensor([67248]),\n",
       " tensor(382),\n",
       " tensor([14280]),\n",
       " tensor([63]))"
      ]
     },
     "execution_count": 7,
     "metadata": {},
     "output_type": "execute_result"
    }
   ],
   "source": [
    "datamodule.train_dataset[1]"
   ]
  },
  {
   "cell_type": "code",
   "execution_count": 8,
   "metadata": {},
   "outputs": [
    {
     "data": {
      "text/html": [
       "<div><style>\n",
       ".dataframe > thead > tr,\n",
       ".dataframe > tbody > tr {\n",
       "  text-align: right;\n",
       "  white-space: pre-wrap;\n",
       "}\n",
       "</style>\n",
       "<small>shape: (0, 10)</small><table border=\"1\" class=\"dataframe\"><thead><tr><th>user_id</th><th>user_index</th><th>parent_asin</th><th>item_index</th><th>category</th><th>category_index</th><th>rating</th><th>timestamp</th><th>history</th><th>history_index</th></tr><tr><td>str</td><td>i64</td><td>str</td><td>i64</td><td>str</td><td>i64</td><td>f64</td><td>i64</td><td>list[str]</td><td>list[i64]</td></tr></thead><tbody></tbody></table></div>"
      ],
      "text/plain": [
       "shape: (0, 10)\n",
       "┌─────────┬────────────┬────────────┬────────────┬───┬────────┬───────────┬───────────┬────────────┐\n",
       "│ user_id ┆ user_index ┆ parent_asi ┆ item_index ┆ … ┆ rating ┆ timestamp ┆ history   ┆ history_in │\n",
       "│ ---     ┆ ---        ┆ n          ┆ ---        ┆   ┆ ---    ┆ ---       ┆ ---       ┆ dex        │\n",
       "│ str     ┆ i64        ┆ ---        ┆ i64        ┆   ┆ f64    ┆ i64       ┆ list[str] ┆ ---        │\n",
       "│         ┆            ┆ str        ┆            ┆   ┆        ┆           ┆           ┆ list[i64]  │\n",
       "╞═════════╪════════════╪════════════╪════════════╪═══╪════════╪═══════════╪═══════════╪════════════╡\n",
       "└─────────┴────────────┴────────────┴────────────┴───┴────────┴───────────┴───────────┴────────────┘"
      ]
     },
     "execution_count": 8,
     "metadata": {},
     "output_type": "execute_result"
    }
   ],
   "source": [
    "train_dataset = datamodule.train_dataset\n",
    "train_df = datamodule.train_dataset.df\n",
    "train_df.filter(pl.col(\"item_index\") == 50316)"
   ]
  },
  {
   "cell_type": "code",
   "execution_count": 9,
   "metadata": {},
   "outputs": [
    {
     "data": {
      "text/plain": [
       "True"
      ]
     },
     "execution_count": 9,
     "metadata": {},
     "output_type": "execute_result"
    }
   ],
   "source": [
    "50316 in train_dataset.item_indexes"
   ]
  },
  {
   "cell_type": "code",
   "execution_count": 12,
   "metadata": {},
   "outputs": [
    {
     "ename": "KeyError",
     "evalue": "50316",
     "output_type": "error",
     "traceback": [
      "\u001b[0;31m---------------------------------------------------------------------------\u001b[0m",
      "\u001b[0;31mKeyError\u001b[0m                                  Traceback (most recent call last)",
      "Cell \u001b[0;32mIn[12], line 1\u001b[0m\n\u001b[0;32m----> 1\u001b[0m \u001b[43mdatamodule\u001b[49m\u001b[38;5;241;43m.\u001b[39;49m\u001b[43mtrain_dataset\u001b[49m\u001b[38;5;241;43m.\u001b[39;49m\u001b[43mitem_index_2_category_index\u001b[49m\u001b[43m[\u001b[49m\u001b[38;5;241;43m50316\u001b[39;49m\u001b[43m]\u001b[49m\n",
      "\u001b[0;31mKeyError\u001b[0m: 50316"
     ]
    }
   ],
   "source": [
    "datamodule.train_dataset.item_index_2_category_index[50316]"
   ]
  },
  {
   "cell_type": "code",
   "execution_count": 10,
   "metadata": {},
   "outputs": [
    {
     "data": {
      "application/vnd.jupyter.widget-view+json": {
       "model_id": "b2ea5a907d9e4e72a820f93824420a94",
       "version_major": 2,
       "version_minor": 0
      },
      "text/plain": [
       "  0%|          | 0/22355 [00:00<?, ?it/s]"
      ]
     },
     "metadata": {},
     "output_type": "display_data"
    },
    {
     "ename": "KeyError",
     "evalue": "Caught KeyError in DataLoader worker process 0.\nOriginal Traceback (most recent call last):\n  File \"/Users/haru256/repo/github.com/haru-256/ml-sandbox/sequential_recommendation/.venv/lib/python3.12/site-packages/torch/utils/data/_utils/worker.py\", line 309, in _worker_loop\n    data = fetcher.fetch(index)  # type: ignore[possibly-undefined]\n           ^^^^^^^^^^^^^^^^^^^^\n  File \"/Users/haru256/repo/github.com/haru-256/ml-sandbox/sequential_recommendation/.venv/lib/python3.12/site-packages/torch/utils/data/_utils/fetch.py\", line 52, in fetch\n    data = [self.dataset[idx] for idx in possibly_batched_index]\n            ~~~~~~~~~~~~^^^^^\n  File \"/Users/haru256/repo/github.com/haru-256/ml-sandbox/sequential_recommendation/notebook/../data/dataset.py\", line 300, in __getitem__\n    neg_item_indexes, neg_category_indexes = self.negative_sampling(\n                                             ^^^^^^^^^^^^^^^^^^^^^^^\n  File \"/Users/haru256/repo/github.com/haru-256/ml-sandbox/sequential_recommendation/notebook/../data/dataset.py\", line 264, in negative_sampling\n    self.item_index_2_category_index[item_index]\n    ~~~~~~~~~~~~~~~~~~~~~~~~~~~~~~~~^^^^^^^^^^^^\nKeyError: 50316\n",
     "output_type": "error",
     "traceback": [
      "\u001b[0;31m---------------------------------------------------------------------------\u001b[0m",
      "\u001b[0;31mKeyError\u001b[0m                                  Traceback (most recent call last)",
      "Cell \u001b[0;32mIn[10], line 1\u001b[0m\n\u001b[0;32m----> 1\u001b[0m \u001b[38;5;28;43;01mfor\u001b[39;49;00m\u001b[43m \u001b[49m\u001b[43mbatch\u001b[49m\u001b[43m \u001b[49m\u001b[38;5;129;43;01min\u001b[39;49;00m\u001b[43m \u001b[49m\u001b[43mtqdm\u001b[49m\u001b[43m(\u001b[49m\u001b[43mdatamodule\u001b[49m\u001b[38;5;241;43m.\u001b[39;49m\u001b[43mtrain_dataloader\u001b[49m\u001b[43m(\u001b[49m\u001b[43m)\u001b[49m\u001b[43m)\u001b[49m\u001b[43m:\u001b[49m\n\u001b[1;32m      2\u001b[0m \u001b[43m    \u001b[49m\u001b[43mbatch\u001b[49m\n",
      "File \u001b[0;32m~/repo/github.com/haru-256/ml-sandbox/sequential_recommendation/.venv/lib/python3.12/site-packages/tqdm/notebook.py:250\u001b[0m, in \u001b[0;36mtqdm_notebook.__iter__\u001b[0;34m(self)\u001b[0m\n\u001b[1;32m    248\u001b[0m \u001b[38;5;28;01mtry\u001b[39;00m:\n\u001b[1;32m    249\u001b[0m     it \u001b[38;5;241m=\u001b[39m \u001b[38;5;28msuper\u001b[39m()\u001b[38;5;241m.\u001b[39m\u001b[38;5;21m__iter__\u001b[39m()\n\u001b[0;32m--> 250\u001b[0m \u001b[43m    \u001b[49m\u001b[38;5;28;43;01mfor\u001b[39;49;00m\u001b[43m \u001b[49m\u001b[43mobj\u001b[49m\u001b[43m \u001b[49m\u001b[38;5;129;43;01min\u001b[39;49;00m\u001b[43m \u001b[49m\u001b[43mit\u001b[49m\u001b[43m:\u001b[49m\n\u001b[1;32m    251\u001b[0m \u001b[43m        \u001b[49m\u001b[38;5;66;43;03m# return super(tqdm...) will not catch exception\u001b[39;49;00m\n\u001b[1;32m    252\u001b[0m \u001b[43m        \u001b[49m\u001b[38;5;28;43;01myield\u001b[39;49;00m\u001b[43m \u001b[49m\u001b[43mobj\u001b[49m\n\u001b[1;32m    253\u001b[0m \u001b[38;5;66;03m# NB: except ... [ as ...] breaks IPython async KeyboardInterrupt\u001b[39;00m\n",
      "File \u001b[0;32m~/repo/github.com/haru-256/ml-sandbox/sequential_recommendation/.venv/lib/python3.12/site-packages/tqdm/std.py:1181\u001b[0m, in \u001b[0;36mtqdm.__iter__\u001b[0;34m(self)\u001b[0m\n\u001b[1;32m   1178\u001b[0m time \u001b[38;5;241m=\u001b[39m \u001b[38;5;28mself\u001b[39m\u001b[38;5;241m.\u001b[39m_time\n\u001b[1;32m   1180\u001b[0m \u001b[38;5;28;01mtry\u001b[39;00m:\n\u001b[0;32m-> 1181\u001b[0m \u001b[43m    \u001b[49m\u001b[38;5;28;43;01mfor\u001b[39;49;00m\u001b[43m \u001b[49m\u001b[43mobj\u001b[49m\u001b[43m \u001b[49m\u001b[38;5;129;43;01min\u001b[39;49;00m\u001b[43m \u001b[49m\u001b[43miterable\u001b[49m\u001b[43m:\u001b[49m\n\u001b[1;32m   1182\u001b[0m \u001b[43m        \u001b[49m\u001b[38;5;28;43;01myield\u001b[39;49;00m\u001b[43m \u001b[49m\u001b[43mobj\u001b[49m\n\u001b[1;32m   1183\u001b[0m \u001b[43m        \u001b[49m\u001b[38;5;66;43;03m# Update and possibly print the progressbar.\u001b[39;49;00m\n\u001b[1;32m   1184\u001b[0m \u001b[43m        \u001b[49m\u001b[38;5;66;43;03m# Note: does not call self.update(1) for speed optimisation.\u001b[39;49;00m\n",
      "File \u001b[0;32m~/repo/github.com/haru-256/ml-sandbox/sequential_recommendation/.venv/lib/python3.12/site-packages/torch/utils/data/dataloader.py:630\u001b[0m, in \u001b[0;36m_BaseDataLoaderIter.__next__\u001b[0;34m(self)\u001b[0m\n\u001b[1;32m    627\u001b[0m \u001b[38;5;28;01mif\u001b[39;00m \u001b[38;5;28mself\u001b[39m\u001b[38;5;241m.\u001b[39m_sampler_iter \u001b[38;5;129;01mis\u001b[39;00m \u001b[38;5;28;01mNone\u001b[39;00m:\n\u001b[1;32m    628\u001b[0m     \u001b[38;5;66;03m# TODO(https://github.com/pytorch/pytorch/issues/76750)\u001b[39;00m\n\u001b[1;32m    629\u001b[0m     \u001b[38;5;28mself\u001b[39m\u001b[38;5;241m.\u001b[39m_reset()  \u001b[38;5;66;03m# type: ignore[call-arg]\u001b[39;00m\n\u001b[0;32m--> 630\u001b[0m data \u001b[38;5;241m=\u001b[39m \u001b[38;5;28;43mself\u001b[39;49m\u001b[38;5;241;43m.\u001b[39;49m\u001b[43m_next_data\u001b[49m\u001b[43m(\u001b[49m\u001b[43m)\u001b[49m\n\u001b[1;32m    631\u001b[0m \u001b[38;5;28mself\u001b[39m\u001b[38;5;241m.\u001b[39m_num_yielded \u001b[38;5;241m+\u001b[39m\u001b[38;5;241m=\u001b[39m \u001b[38;5;241m1\u001b[39m\n\u001b[1;32m    632\u001b[0m \u001b[38;5;28;01mif\u001b[39;00m \u001b[38;5;28mself\u001b[39m\u001b[38;5;241m.\u001b[39m_dataset_kind \u001b[38;5;241m==\u001b[39m _DatasetKind\u001b[38;5;241m.\u001b[39mIterable \u001b[38;5;129;01mand\u001b[39;00m \\\n\u001b[1;32m    633\u001b[0m         \u001b[38;5;28mself\u001b[39m\u001b[38;5;241m.\u001b[39m_IterableDataset_len_called \u001b[38;5;129;01mis\u001b[39;00m \u001b[38;5;129;01mnot\u001b[39;00m \u001b[38;5;28;01mNone\u001b[39;00m \u001b[38;5;129;01mand\u001b[39;00m \\\n\u001b[1;32m    634\u001b[0m         \u001b[38;5;28mself\u001b[39m\u001b[38;5;241m.\u001b[39m_num_yielded \u001b[38;5;241m>\u001b[39m \u001b[38;5;28mself\u001b[39m\u001b[38;5;241m.\u001b[39m_IterableDataset_len_called:\n",
      "File \u001b[0;32m~/repo/github.com/haru-256/ml-sandbox/sequential_recommendation/.venv/lib/python3.12/site-packages/torch/utils/data/dataloader.py:1344\u001b[0m, in \u001b[0;36m_MultiProcessingDataLoaderIter._next_data\u001b[0;34m(self)\u001b[0m\n\u001b[1;32m   1342\u001b[0m \u001b[38;5;28;01melse\u001b[39;00m:\n\u001b[1;32m   1343\u001b[0m     \u001b[38;5;28;01mdel\u001b[39;00m \u001b[38;5;28mself\u001b[39m\u001b[38;5;241m.\u001b[39m_task_info[idx]\n\u001b[0;32m-> 1344\u001b[0m     \u001b[38;5;28;01mreturn\u001b[39;00m \u001b[38;5;28;43mself\u001b[39;49m\u001b[38;5;241;43m.\u001b[39;49m\u001b[43m_process_data\u001b[49m\u001b[43m(\u001b[49m\u001b[43mdata\u001b[49m\u001b[43m)\u001b[49m\n",
      "File \u001b[0;32m~/repo/github.com/haru-256/ml-sandbox/sequential_recommendation/.venv/lib/python3.12/site-packages/torch/utils/data/dataloader.py:1370\u001b[0m, in \u001b[0;36m_MultiProcessingDataLoaderIter._process_data\u001b[0;34m(self, data)\u001b[0m\n\u001b[1;32m   1368\u001b[0m \u001b[38;5;28mself\u001b[39m\u001b[38;5;241m.\u001b[39m_try_put_index()\n\u001b[1;32m   1369\u001b[0m \u001b[38;5;28;01mif\u001b[39;00m \u001b[38;5;28misinstance\u001b[39m(data, ExceptionWrapper):\n\u001b[0;32m-> 1370\u001b[0m     \u001b[43mdata\u001b[49m\u001b[38;5;241;43m.\u001b[39;49m\u001b[43mreraise\u001b[49m\u001b[43m(\u001b[49m\u001b[43m)\u001b[49m\n\u001b[1;32m   1371\u001b[0m \u001b[38;5;28;01mreturn\u001b[39;00m data\n",
      "File \u001b[0;32m~/repo/github.com/haru-256/ml-sandbox/sequential_recommendation/.venv/lib/python3.12/site-packages/torch/_utils.py:706\u001b[0m, in \u001b[0;36mExceptionWrapper.reraise\u001b[0;34m(self)\u001b[0m\n\u001b[1;32m    702\u001b[0m \u001b[38;5;28;01mexcept\u001b[39;00m \u001b[38;5;167;01mTypeError\u001b[39;00m:\n\u001b[1;32m    703\u001b[0m     \u001b[38;5;66;03m# If the exception takes multiple arguments, don't try to\u001b[39;00m\n\u001b[1;32m    704\u001b[0m     \u001b[38;5;66;03m# instantiate since we don't know how to\u001b[39;00m\n\u001b[1;32m    705\u001b[0m     \u001b[38;5;28;01mraise\u001b[39;00m \u001b[38;5;167;01mRuntimeError\u001b[39;00m(msg) \u001b[38;5;28;01mfrom\u001b[39;00m \u001b[38;5;28;01mNone\u001b[39;00m\n\u001b[0;32m--> 706\u001b[0m \u001b[38;5;28;01mraise\u001b[39;00m exception\n",
      "\u001b[0;31mKeyError\u001b[0m: Caught KeyError in DataLoader worker process 0.\nOriginal Traceback (most recent call last):\n  File \"/Users/haru256/repo/github.com/haru-256/ml-sandbox/sequential_recommendation/.venv/lib/python3.12/site-packages/torch/utils/data/_utils/worker.py\", line 309, in _worker_loop\n    data = fetcher.fetch(index)  # type: ignore[possibly-undefined]\n           ^^^^^^^^^^^^^^^^^^^^\n  File \"/Users/haru256/repo/github.com/haru-256/ml-sandbox/sequential_recommendation/.venv/lib/python3.12/site-packages/torch/utils/data/_utils/fetch.py\", line 52, in fetch\n    data = [self.dataset[idx] for idx in possibly_batched_index]\n            ~~~~~~~~~~~~^^^^^\n  File \"/Users/haru256/repo/github.com/haru-256/ml-sandbox/sequential_recommendation/notebook/../data/dataset.py\", line 300, in __getitem__\n    neg_item_indexes, neg_category_indexes = self.negative_sampling(\n                                             ^^^^^^^^^^^^^^^^^^^^^^^\n  File \"/Users/haru256/repo/github.com/haru-256/ml-sandbox/sequential_recommendation/notebook/../data/dataset.py\", line 264, in negative_sampling\n    self.item_index_2_category_index[item_index]\n    ~~~~~~~~~~~~~~~~~~~~~~~~~~~~~~~~^^^^^^^^^^^^\nKeyError: 50316\n"
     ]
    }
   ],
   "source": [
    "for batch in tqdm(datamodule.train_dataloader()):\n",
    "    batch"
   ]
  },
  {
   "cell_type": "code",
   "execution_count": null,
   "metadata": {},
   "outputs": [],
   "source": [
    "val_dataloader = datamodule.val_dataloader()\n",
    "len(val_dataloader)"
   ]
  },
  {
   "cell_type": "code",
   "execution_count": null,
   "metadata": {},
   "outputs": [],
   "source": [
    "len(datamodule.val_dataset.df)"
   ]
  },
  {
   "cell_type": "code",
   "execution_count": null,
   "metadata": {},
   "outputs": [],
   "source": [
    "train_df = datamodule.train_dataset.df\n",
    "val_df = datamodule.val_dataset.df\n",
    "\n",
    "train = set(train_df[\"user_id\"].to_list())\n",
    "val = set(val_df[\"user_id\"].to_list())\n",
    "len(train), len(val)"
   ]
  },
  {
   "cell_type": "code",
   "execution_count": null,
   "metadata": {},
   "outputs": [],
   "source": [
    "users = list(set(val_df[\"user_id\"].to_list()) & set(train_df[\"user_id\"].to_list()))\n",
    "\n",
    "user = users[0]\n",
    "user"
   ]
  },
  {
   "cell_type": "code",
   "execution_count": null,
   "metadata": {},
   "outputs": [],
   "source": [
    "train_df.filter(pl.col(\"user_id\") == user)"
   ]
  },
  {
   "cell_type": "code",
   "execution_count": null,
   "metadata": {},
   "outputs": [],
   "source": [
    "val_df.filter(pl.col(\"user_id\") == user)"
   ]
  },
  {
   "cell_type": "code",
   "execution_count": null,
   "metadata": {},
   "outputs": [],
   "source": [
    "val_df[\"user_id\"].n_unique() == len(val_df)"
   ]
  }
 ],
 "metadata": {
  "kernelspec": {
   "display_name": ".venv",
   "language": "python",
   "name": "python3"
  },
  "language_info": {
   "codemirror_mode": {
    "name": "ipython",
    "version": 3
   },
   "file_extension": ".py",
   "mimetype": "text/x-python",
   "name": "python",
   "nbconvert_exporter": "python",
   "pygments_lexer": "ipython3",
   "version": "3.12.5"
  }
 },
 "nbformat": 4,
 "nbformat_minor": 2
}
