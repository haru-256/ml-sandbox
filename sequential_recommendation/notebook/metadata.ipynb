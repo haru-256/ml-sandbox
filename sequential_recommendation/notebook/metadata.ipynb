{
 "cells": [
  {
   "cell_type": "code",
   "execution_count": 1,
   "metadata": {},
   "outputs": [],
   "source": [
    "%load_ext autoreload"
   ]
  },
  {
   "cell_type": "code",
   "execution_count": 2,
   "metadata": {},
   "outputs": [],
   "source": [
    "%autoreload 2\n",
    "\n",
    "import sys\n",
    "\n",
    "import polars as pl\n",
    "\n",
    "sys.path.append(\"..\")\n",
    "\n",
    "from data.dataset import fetch_dataset, fetch_metadata, preprocess_dataset"
   ]
  },
  {
   "cell_type": "code",
   "execution_count": 3,
   "metadata": {},
   "outputs": [],
   "source": [
    "dataset = fetch_dataset()\n",
    "metadata = fetch_metadata()\n",
    "train_df, *_ = preprocess_dataset(dataset, metadata)"
   ]
  },
  {
   "cell_type": "code",
   "execution_count": 4,
   "metadata": {},
   "outputs": [
    {
     "data": {
      "text/html": [
       "<div><style>\n",
       ".dataframe > thead > tr,\n",
       ".dataframe > tbody > tr {\n",
       "  text-align: right;\n",
       "  white-space: pre-wrap;\n",
       "}\n",
       "</style>\n",
       "<small>shape: (715_329, 12)</small><table border=\"1\" class=\"dataframe\"><thead><tr><th>user_id</th><th>user_index</th><th>parent_asin</th><th>item_index</th><th>category</th><th>category_index</th><th>rating</th><th>timestamp</th><th>history</th><th>history_index</th><th>history_category</th><th>history_category_index</th></tr><tr><td>str</td><td>i64</td><td>str</td><td>i64</td><td>str</td><td>i64</td><td>f64</td><td>i64</td><td>list[str]</td><td>list[i64]</td><td>list[str]</td><td>list[i64]</td></tr></thead><tbody><tr><td>&quot;AG6BAEKWLCWH2TW3KKLVK773YF6A&quot;</td><td>96772</td><td>&quot;B001AW156U&quot;</td><td>16752</td><td>&quot;#UNK&quot;</td><td>1</td><td>4.0</td><td>1523314072900</td><td>[&quot;B0B36HX334&quot;]</td><td>[74532]</td><td>[&quot;Video Games/Legacy Systems/Sega Systems/Sega Saturn/Accessories&quot;]</td><td>[290]</td></tr><tr><td>&quot;AEVPPTMG43C6GWSR7I2UGRQN7WFQ&quot;</td><td>39474</td><td>&quot;B0863MT183&quot;</td><td>63230</td><td>&quot;Video Games/PC/Virtual Reality…</td><td>380</td><td>4.0</td><td>1613701986538</td><td>[&quot;B08R5B7YS4&quot;]</td><td>[67644]</td><td>[&quot;Video Games/PC/Virtual Reality/Accessories&quot;]</td><td>[377]</td></tr><tr><td>&quot;AEVPPTMG43C6GWSR7I2UGRQN7WFQ&quot;</td><td>39474</td><td>&quot;B08P8P7686&quot;</td><td>67194</td><td>&quot;Video Games/PC/Virtual Reality…</td><td>380</td><td>5.0</td><td>1613702112995</td><td>[&quot;B08R5B7YS4&quot;, &quot;B0863MT183&quot;]</td><td>[67644, 63230]</td><td>[&quot;Video Games/PC/Virtual Reality/Accessories&quot;, &quot;Video Games/PC/Virtual Reality/Headsets&quot;]</td><td>[377, 380]</td></tr><tr><td>&quot;AEVPPTMG43C6GWSR7I2UGRQN7WFQ&quot;</td><td>39474</td><td>&quot;B0B7LV3DN2&quot;</td><td>75147</td><td>&quot;Video Games/PC/Virtual Reality…</td><td>380</td><td>4.0</td><td>1617641445475</td><td>[&quot;B08R5B7YS4&quot;, &quot;B0863MT183&quot;, &quot;B08P8P7686&quot;]</td><td>[67644, 63230, 67194]</td><td>[&quot;Video Games/PC/Virtual Reality/Accessories&quot;, &quot;Video Games/PC/Virtual Reality/Headsets&quot;, &quot;Video Games/PC/Virtual Reality/Headsets&quot;]</td><td>[377, 380, 380]</td></tr><tr><td>&quot;AEVPPTMG43C6GWSR7I2UGRQN7WFQ&quot;</td><td>39474</td><td>&quot;B08SM7T6FF&quot;</td><td>67973</td><td>&quot;Video Games/PC&quot;</td><td>364</td><td>1.0</td><td>1619227636331</td><td>[&quot;B08R5B7YS4&quot;, &quot;B0863MT183&quot;, … &quot;B0B7LV3DN2&quot;]</td><td>[67644, 63230, … 75147]</td><td>[&quot;Video Games/PC/Virtual Reality/Accessories&quot;, &quot;Video Games/PC/Virtual Reality/Headsets&quot;, … &quot;Video Games/PC/Virtual Reality/Headsets&quot;]</td><td>[377, 380, … 380]</td></tr><tr><td>&hellip;</td><td>&hellip;</td><td>&hellip;</td><td>&hellip;</td><td>&hellip;</td><td>&hellip;</td><td>&hellip;</td><td>&hellip;</td><td>&hellip;</td><td>&hellip;</td><td>&hellip;</td><td>&hellip;</td></tr><tr><td>&quot;AGVVUTPA6B5UP37MQHOXF3GI2BYA&quot;</td><td>130558</td><td>&quot;B00OU0G4RO&quot;</td><td>38470</td><td>&quot;Video Games/PC&quot;</td><td>364</td><td>5.0</td><td>1478582583000</td><td>[&quot;B00EP2WNKY&quot;, &quot;B000HVDEQO&quot;]</td><td>[33714, 13135]</td><td>[&quot;Video Games/PC/Games&quot;, &quot;Video Games/Legacy Systems/Xbox Systems/Xbox/Accessories&quot;]</td><td>[375, 327]</td></tr><tr><td>&quot;AGVVUTPA6B5UP37MQHOXF3GI2BYA&quot;</td><td>130558</td><td>&quot;B00005AG1J&quot;</td><td>4345</td><td>&quot;Video Games/PC/Games&quot;</td><td>375</td><td>4.0</td><td>1478582677000</td><td>[&quot;B00EP2WNKY&quot;, &quot;B000HVDEQO&quot;, &quot;B00OU0G4RO&quot;]</td><td>[33714, 13135, 38470]</td><td>[&quot;Video Games/PC/Games&quot;, &quot;Video Games/Legacy Systems/Xbox Systems/Xbox/Accessories&quot;, &quot;Video Games/PC&quot;]</td><td>[375, 327, 364]</td></tr><tr><td>&quot;AGVVUTPA6B5UP37MQHOXF3GI2BYA&quot;</td><td>130558</td><td>&quot;B000040OEI&quot;</td><td>2773</td><td>&quot;Video Games/PC/Games&quot;</td><td>375</td><td>5.0</td><td>1478582705000</td><td>[&quot;B00EP2WNKY&quot;, &quot;B000HVDEQO&quot;, … &quot;B00005AG1J&quot;]</td><td>[33714, 13135, … 4345]</td><td>[&quot;Video Games/PC/Games&quot;, &quot;Video Games/Legacy Systems/Xbox Systems/Xbox/Accessories&quot;, … &quot;Video Games/PC/Games&quot;]</td><td>[375, 327, … 375]</td></tr><tr><td>&quot;AH64224B4V54D7AK37ZHDNCIKD6Q&quot;</td><td>142358</td><td>&quot;B001EYUPHO&quot;</td><td>17869</td><td>&quot;Video Games/Legacy Systems/Pla…</td><td>198</td><td>1.0</td><td>1230749491000</td><td>[&quot;B000VV9T7S&quot;]</td><td>[15265]</td><td>[&quot;Video Games/PC/Games&quot;]</td><td>[375]</td></tr><tr><td>&quot;AGNHORX2IQC36EIX5RFURAM5FMWQ&quot;</td><td>118344</td><td>&quot;B001M5I4GO&quot;</td><td>19320</td><td>&quot;#UNK&quot;</td><td>1</td><td>5.0</td><td>1424217608000</td><td>[&quot;B001ELJE56&quot;]</td><td>[17450]</td><td>[&quot;Video Games/Legacy Systems/Nintendo Systems/Wii/Games&quot;]</td><td>[190]</td></tr></tbody></table></div>"
      ],
      "text/plain": [
       "shape: (715_329, 12)\n",
       "┌───────────┬───────────┬───────────┬───────────┬───┬───────────┬───────────┬───────────┬──────────┐\n",
       "│ user_id   ┆ user_inde ┆ parent_as ┆ item_inde ┆ … ┆ history   ┆ history_i ┆ history_c ┆ history_ │\n",
       "│ ---       ┆ x         ┆ in        ┆ x         ┆   ┆ ---       ┆ ndex      ┆ ategory   ┆ category │\n",
       "│ str       ┆ ---       ┆ ---       ┆ ---       ┆   ┆ list[str] ┆ ---       ┆ ---       ┆ _index   │\n",
       "│           ┆ i64       ┆ str       ┆ i64       ┆   ┆           ┆ list[i64] ┆ list[str] ┆ ---      │\n",
       "│           ┆           ┆           ┆           ┆   ┆           ┆           ┆           ┆ list[i64 │\n",
       "│           ┆           ┆           ┆           ┆   ┆           ┆           ┆           ┆ ]        │\n",
       "╞═══════════╪═══════════╪═══════════╪═══════════╪═══╪═══════════╪═══════════╪═══════════╪══════════╡\n",
       "│ AG6BAEKWL ┆ 96772     ┆ B001AW156 ┆ 16752     ┆ … ┆ [\"B0B36HX ┆ [74532]   ┆ [\"Video   ┆ [290]    │\n",
       "│ CWH2TW3KK ┆           ┆ U         ┆           ┆   ┆ 334\"]     ┆           ┆ Games/Leg ┆          │\n",
       "│ LVK773YF6 ┆           ┆           ┆           ┆   ┆           ┆           ┆ acy Syste ┆          │\n",
       "│ A         ┆           ┆           ┆           ┆   ┆           ┆           ┆ ms/S…     ┆          │\n",
       "│ AEVPPTMG4 ┆ 39474     ┆ B0863MT18 ┆ 63230     ┆ … ┆ [\"B08R5B7 ┆ [67644]   ┆ [\"Video   ┆ [377]    │\n",
       "│ 3C6GWSR7I ┆           ┆ 3         ┆           ┆   ┆ YS4\"]     ┆           ┆ Games/PC/ ┆          │\n",
       "│ 2UGRQN7WF ┆           ┆           ┆           ┆   ┆           ┆           ┆ Virtual   ┆          │\n",
       "│ Q         ┆           ┆           ┆           ┆   ┆           ┆           ┆ Reali…    ┆          │\n",
       "│ AEVPPTMG4 ┆ 39474     ┆ B08P8P768 ┆ 67194     ┆ … ┆ [\"B08R5B7 ┆ [67644,   ┆ [\"Video   ┆ [377,    │\n",
       "│ 3C6GWSR7I ┆           ┆ 6         ┆           ┆   ┆ YS4\", \"B0 ┆ 63230]    ┆ Games/PC/ ┆ 380]     │\n",
       "│ 2UGRQN7WF ┆           ┆           ┆           ┆   ┆ 863MT183\" ┆           ┆ Virtual   ┆          │\n",
       "│ Q         ┆           ┆           ┆           ┆   ┆ ]         ┆           ┆ Reali…    ┆          │\n",
       "│ AEVPPTMG4 ┆ 39474     ┆ B0B7LV3DN ┆ 75147     ┆ … ┆ [\"B08R5B7 ┆ [67644,   ┆ [\"Video   ┆ [377,    │\n",
       "│ 3C6GWSR7I ┆           ┆ 2         ┆           ┆   ┆ YS4\", \"B0 ┆ 63230,    ┆ Games/PC/ ┆ 380,     │\n",
       "│ 2UGRQN7WF ┆           ┆           ┆           ┆   ┆ 863MT183\" ┆ 67194]    ┆ Virtual   ┆ 380]     │\n",
       "│ Q         ┆           ┆           ┆           ┆   ┆ , \"…      ┆           ┆ Reali…    ┆          │\n",
       "│ AEVPPTMG4 ┆ 39474     ┆ B08SM7T6F ┆ 67973     ┆ … ┆ [\"B08R5B7 ┆ [67644,   ┆ [\"Video   ┆ [377,    │\n",
       "│ 3C6GWSR7I ┆           ┆ F         ┆           ┆   ┆ YS4\", \"B0 ┆ 63230, …  ┆ Games/PC/ ┆ 380, …   │\n",
       "│ 2UGRQN7WF ┆           ┆           ┆           ┆   ┆ 863MT183\" ┆ 75147]    ┆ Virtual   ┆ 380]     │\n",
       "│ Q         ┆           ┆           ┆           ┆   ┆ , ……      ┆           ┆ Reali…    ┆          │\n",
       "│ …         ┆ …         ┆ …         ┆ …         ┆ … ┆ …         ┆ …         ┆ …         ┆ …        │\n",
       "│ AGVVUTPA6 ┆ 130558    ┆ B00OU0G4R ┆ 38470     ┆ … ┆ [\"B00EP2W ┆ [33714,   ┆ [\"Video   ┆ [375,    │\n",
       "│ B5UP37MQH ┆           ┆ O         ┆           ┆   ┆ NKY\", \"B0 ┆ 13135]    ┆ Games/PC/ ┆ 327]     │\n",
       "│ OXF3GI2BY ┆           ┆           ┆           ┆   ┆ 00HVDEQO\" ┆           ┆ Games\",   ┆          │\n",
       "│ A         ┆           ┆           ┆           ┆   ┆ ]         ┆           ┆ \"Vide…    ┆          │\n",
       "│ AGVVUTPA6 ┆ 130558    ┆ B00005AG1 ┆ 4345      ┆ … ┆ [\"B00EP2W ┆ [33714,   ┆ [\"Video   ┆ [375,    │\n",
       "│ B5UP37MQH ┆           ┆ J         ┆           ┆   ┆ NKY\", \"B0 ┆ 13135,    ┆ Games/PC/ ┆ 327,     │\n",
       "│ OXF3GI2BY ┆           ┆           ┆           ┆   ┆ 00HVDEQO\" ┆ 38470]    ┆ Games\",   ┆ 364]     │\n",
       "│ A         ┆           ┆           ┆           ┆   ┆ , \"…      ┆           ┆ \"Vide…    ┆          │\n",
       "│ AGVVUTPA6 ┆ 130558    ┆ B000040OE ┆ 2773      ┆ … ┆ [\"B00EP2W ┆ [33714,   ┆ [\"Video   ┆ [375,    │\n",
       "│ B5UP37MQH ┆           ┆ I         ┆           ┆   ┆ NKY\", \"B0 ┆ 13135, …  ┆ Games/PC/ ┆ 327, …   │\n",
       "│ OXF3GI2BY ┆           ┆           ┆           ┆   ┆ 00HVDEQO\" ┆ 4345]     ┆ Games\",   ┆ 375]     │\n",
       "│ A         ┆           ┆           ┆           ┆   ┆ , ……      ┆           ┆ \"Vide…    ┆          │\n",
       "│ AH64224B4 ┆ 142358    ┆ B001EYUPH ┆ 17869     ┆ … ┆ [\"B000VV9 ┆ [15265]   ┆ [\"Video   ┆ [375]    │\n",
       "│ V54D7AK37 ┆           ┆ O         ┆           ┆   ┆ T7S\"]     ┆           ┆ Games/PC/ ┆          │\n",
       "│ ZHDNCIKD6 ┆           ┆           ┆           ┆   ┆           ┆           ┆ Games\"]   ┆          │\n",
       "│ Q         ┆           ┆           ┆           ┆   ┆           ┆           ┆           ┆          │\n",
       "│ AGNHORX2I ┆ 118344    ┆ B001M5I4G ┆ 19320     ┆ … ┆ [\"B001ELJ ┆ [17450]   ┆ [\"Video   ┆ [190]    │\n",
       "│ QC36EIX5R ┆           ┆ O         ┆           ┆   ┆ E56\"]     ┆           ┆ Games/Leg ┆          │\n",
       "│ FURAM5FMW ┆           ┆           ┆           ┆   ┆           ┆           ┆ acy Syste ┆          │\n",
       "│ Q         ┆           ┆           ┆           ┆   ┆           ┆           ┆ ms/N…     ┆          │\n",
       "└───────────┴───────────┴───────────┴───────────┴───┴───────────┴───────────┴───────────┴──────────┘"
      ]
     },
     "execution_count": 4,
     "metadata": {},
     "output_type": "execute_result"
    }
   ],
   "source": [
    "train_df"
   ]
  },
  {
   "cell_type": "code",
   "execution_count": 10,
   "metadata": {},
   "outputs": [
    {
     "data": {
      "text/html": [
       "<div><style>\n",
       ".dataframe > thead > tr,\n",
       ".dataframe > tbody > tr {\n",
       "  text-align: right;\n",
       "  white-space: pre-wrap;\n",
       "}\n",
       "</style>\n",
       "<small>shape: (104_578, 12)</small><table border=\"1\" class=\"dataframe\"><thead><tr><th>user_id</th><th>user_index</th><th>parent_asin</th><th>item_index</th><th>category</th><th>category_index</th><th>rating</th><th>timestamp</th><th>history</th><th>history_index</th><th>history_category</th><th>history_category_index</th></tr><tr><td>str</td><td>i64</td><td>str</td><td>i64</td><td>str</td><td>i64</td><td>f64</td><td>i64</td><td>list[str]</td><td>list[i64]</td><td>list[str]</td><td>list[i64]</td></tr></thead><tbody><tr><td>&quot;AFW2PDT3AMT4X3PYQG7FJZH5FXFA&quot;</td><td>85349</td><td>&quot;B000066ST3&quot;</td><td>5814</td><td>&quot;Video Games/PC/Games&quot;</td><td>375</td><td>5.0</td><td>1057895126000</td><td>[&quot;B00001X4Z4&quot;, &quot;B00002EPGU&quot;, … &quot;B003DKJAY6&quot;]</td><td>[721, 1024, … 22923]</td><td>[&quot;Video Games/PC/Games&quot;, &quot;Video Games/PC/Games&quot;, … &quot;#UNK&quot;]</td><td>[375, 375, … 1]</td></tr><tr><td>&quot;AFW2PDT3AMT4X3PYQG7FJZH5FXFA&quot;</td><td>85349</td><td>&quot;B003DNSR4C&quot;</td><td>22933</td><td>&quot;Video Games/PC/Games&quot;</td><td>375</td><td>4.0</td><td>1066000269000</td><td>[&quot;B00001X4Z4&quot;, &quot;B00002EPGU&quot;, … &quot;B000066ST3&quot;]</td><td>[721, 1024, … 5814]</td><td>[&quot;Video Games/PC/Games&quot;, &quot;Video Games/PC/Games&quot;, … &quot;Video Games/PC/Games&quot;]</td><td>[375, 375, … 375]</td></tr><tr><td>&quot;AFW2PDT3AMT4X3PYQG7FJZH5FXFA&quot;</td><td>85349</td><td>&quot;B003DKJAXW&quot;</td><td>22922</td><td>&quot;Video Games/PC/Games&quot;</td><td>375</td><td>5.0</td><td>1067486556000</td><td>[&quot;B00001X4Z4&quot;, &quot;B00002EPGU&quot;, … &quot;B003DNSR4C&quot;]</td><td>[721, 1024, … 22933]</td><td>[&quot;Video Games/PC/Games&quot;, &quot;Video Games/PC/Games&quot;, … &quot;Video Games/PC/Games&quot;]</td><td>[375, 375, … 375]</td></tr><tr><td>&quot;AFW2PDT3AMT4X3PYQG7FJZH5FXFA&quot;</td><td>85349</td><td>&quot;B0000CDYOH&quot;</td><td>8056</td><td>&quot;Video Games/PC/Games&quot;</td><td>375</td><td>5.0</td><td>1080840172000</td><td>[&quot;B00001X4Z4&quot;, &quot;B00002EPGU&quot;, … &quot;B003DKJAXW&quot;]</td><td>[721, 1024, … 22922]</td><td>[&quot;Video Games/PC/Games&quot;, &quot;Video Games/PC/Games&quot;, … &quot;Video Games/PC/Games&quot;]</td><td>[375, 375, … 375]</td></tr><tr><td>&quot;AFW2PDT3AMT4X3PYQG7FJZH5FXFA&quot;</td><td>85349</td><td>&quot;B0000A3442&quot;</td><td>7843</td><td>&quot;Video Games/PC/Games&quot;</td><td>375</td><td>5.0</td><td>1094080985000</td><td>[&quot;B00001X4Z4&quot;, &quot;B00002EPGU&quot;, … &quot;B0000CDYOH&quot;]</td><td>[721, 1024, … 8056]</td><td>[&quot;Video Games/PC/Games&quot;, &quot;Video Games/PC/Games&quot;, … &quot;Video Games/PC/Games&quot;]</td><td>[375, 375, … 375]</td></tr><tr><td>&hellip;</td><td>&hellip;</td><td>&hellip;</td><td>&hellip;</td><td>&hellip;</td><td>&hellip;</td><td>&hellip;</td><td>&hellip;</td><td>&hellip;</td><td>&hellip;</td><td>&hellip;</td><td>&hellip;</td></tr><tr><td>&quot;AFEU5ICBMSOVZNFK2CDPEJA6XDUQ&quot;</td><td>60903</td><td>&quot;B002BB1Y3I&quot;</td><td>20408</td><td>&quot;Video Games/Legacy Systems/Nin…</td><td>76</td><td>4.0</td><td>1539888762749</td><td>[&quot;B00YWISRNS&quot;, &quot;B0001RBIGC&quot;]</td><td>[40626, 8571]</td><td>[&quot;#UNK&quot;, &quot;#UNK&quot;]</td><td>[1, 1]</td></tr><tr><td>&quot;AFEU5ICBMSOVZNFK2CDPEJA6XDUQ&quot;</td><td>60903</td><td>&quot;B01AWYNCGM&quot;</td><td>43361</td><td>&quot;Video Games/Legacy Systems/Nin…</td><td>90</td><td>5.0</td><td>1539888780509</td><td>[&quot;B00YWISRNS&quot;, &quot;B0001RBIGC&quot;, &quot;B002BB1Y3I&quot;]</td><td>[40626, 8571, 20408]</td><td>[&quot;#UNK&quot;, &quot;#UNK&quot;, &quot;Video Games/Legacy Systems/Nintendo Systems/Game Boy Systems/Game Boy Advance/Consoles&quot;]</td><td>[1, 1, 76]</td></tr><tr><td>&quot;AFEU5ICBMSOVZNFK2CDPEJA6XDUQ&quot;</td><td>60903</td><td>&quot;B00SL64MOA&quot;</td><td>39287</td><td>&quot;#UNK&quot;</td><td>1</td><td>5.0</td><td>1539888803868</td><td>[&quot;B00YWISRNS&quot;, &quot;B0001RBIGC&quot;, … &quot;B01AWYNCGM&quot;]</td><td>[40626, 8571, … 43361]</td><td>[&quot;#UNK&quot;, &quot;#UNK&quot;, … &quot;Video Games/Legacy Systems/Nintendo Systems/Nintendo 3DS &amp; 2DS/Accessories&quot;]</td><td>[1, 1, … 90]</td></tr><tr><td>&quot;AFEU5ICBMSOVZNFK2CDPEJA6XDUQ&quot;</td><td>60903</td><td>&quot;B06ZXYT5KJ&quot;</td><td>48773</td><td>&quot;Video Games/Legacy Systems/Nin…</td><td>75</td><td>5.0</td><td>1548373564891</td><td>[&quot;B00YWISRNS&quot;, &quot;B0001RBIGC&quot;, … &quot;B00SL64MOA&quot;]</td><td>[40626, 8571, … 39287]</td><td>[&quot;#UNK&quot;, &quot;#UNK&quot;, … &quot;#UNK&quot;]</td><td>[1, 1, … 1]</td></tr><tr><td>&quot;AFEU5ICBMSOVZNFK2CDPEJA6XDUQ&quot;</td><td>60903</td><td>&quot;B01M9A3BC1&quot;</td><td>46693</td><td>&quot;Video Games/Legacy Systems/Nin…</td><td>75</td><td>5.0</td><td>1548373609136</td><td>[&quot;B00YWISRNS&quot;, &quot;B0001RBIGC&quot;, … &quot;B06ZXYT5KJ&quot;]</td><td>[40626, 8571, … 48773]</td><td>[&quot;#UNK&quot;, &quot;#UNK&quot;, … &quot;Video Games/Legacy Systems/Nintendo Systems/Game Boy Systems/Game Boy Advance/Accessories&quot;]</td><td>[1, 1, … 75]</td></tr></tbody></table></div>"
      ],
      "text/plain": [
       "shape: (104_578, 12)\n",
       "┌───────────┬───────────┬───────────┬───────────┬───┬───────────┬───────────┬───────────┬──────────┐\n",
       "│ user_id   ┆ user_inde ┆ parent_as ┆ item_inde ┆ … ┆ history   ┆ history_i ┆ history_c ┆ history_ │\n",
       "│ ---       ┆ x         ┆ in        ┆ x         ┆   ┆ ---       ┆ ndex      ┆ ategory   ┆ category │\n",
       "│ str       ┆ ---       ┆ ---       ┆ ---       ┆   ┆ list[str] ┆ ---       ┆ ---       ┆ _index   │\n",
       "│           ┆ i64       ┆ str       ┆ i64       ┆   ┆           ┆ list[i64] ┆ list[str] ┆ ---      │\n",
       "│           ┆           ┆           ┆           ┆   ┆           ┆           ┆           ┆ list[i64 │\n",
       "│           ┆           ┆           ┆           ┆   ┆           ┆           ┆           ┆ ]        │\n",
       "╞═══════════╪═══════════╪═══════════╪═══════════╪═══╪═══════════╪═══════════╪═══════════╪══════════╡\n",
       "│ AFW2PDT3A ┆ 85349     ┆ B000066ST ┆ 5814      ┆ … ┆ [\"B00001X ┆ [721,     ┆ [\"Video   ┆ [375,    │\n",
       "│ MT4X3PYQG ┆           ┆ 3         ┆           ┆   ┆ 4Z4\", \"B0 ┆ 1024, …   ┆ Games/PC/ ┆ 375, …   │\n",
       "│ 7FJZH5FXF ┆           ┆           ┆           ┆   ┆ 0002EPGU\" ┆ 22923]    ┆ Games\",   ┆ 1]       │\n",
       "│ A         ┆           ┆           ┆           ┆   ┆ , ……      ┆           ┆ \"Vide…    ┆          │\n",
       "│ AFW2PDT3A ┆ 85349     ┆ B003DNSR4 ┆ 22933     ┆ … ┆ [\"B00001X ┆ [721,     ┆ [\"Video   ┆ [375,    │\n",
       "│ MT4X3PYQG ┆           ┆ C         ┆           ┆   ┆ 4Z4\", \"B0 ┆ 1024, …   ┆ Games/PC/ ┆ 375, …   │\n",
       "│ 7FJZH5FXF ┆           ┆           ┆           ┆   ┆ 0002EPGU\" ┆ 5814]     ┆ Games\",   ┆ 375]     │\n",
       "│ A         ┆           ┆           ┆           ┆   ┆ , ……      ┆           ┆ \"Vide…    ┆          │\n",
       "│ AFW2PDT3A ┆ 85349     ┆ B003DKJAX ┆ 22922     ┆ … ┆ [\"B00001X ┆ [721,     ┆ [\"Video   ┆ [375,    │\n",
       "│ MT4X3PYQG ┆           ┆ W         ┆           ┆   ┆ 4Z4\", \"B0 ┆ 1024, …   ┆ Games/PC/ ┆ 375, …   │\n",
       "│ 7FJZH5FXF ┆           ┆           ┆           ┆   ┆ 0002EPGU\" ┆ 22933]    ┆ Games\",   ┆ 375]     │\n",
       "│ A         ┆           ┆           ┆           ┆   ┆ , ……      ┆           ┆ \"Vide…    ┆          │\n",
       "│ AFW2PDT3A ┆ 85349     ┆ B0000CDYO ┆ 8056      ┆ … ┆ [\"B00001X ┆ [721,     ┆ [\"Video   ┆ [375,    │\n",
       "│ MT4X3PYQG ┆           ┆ H         ┆           ┆   ┆ 4Z4\", \"B0 ┆ 1024, …   ┆ Games/PC/ ┆ 375, …   │\n",
       "│ 7FJZH5FXF ┆           ┆           ┆           ┆   ┆ 0002EPGU\" ┆ 22922]    ┆ Games\",   ┆ 375]     │\n",
       "│ A         ┆           ┆           ┆           ┆   ┆ , ……      ┆           ┆ \"Vide…    ┆          │\n",
       "│ AFW2PDT3A ┆ 85349     ┆ B0000A344 ┆ 7843      ┆ … ┆ [\"B00001X ┆ [721,     ┆ [\"Video   ┆ [375,    │\n",
       "│ MT4X3PYQG ┆           ┆ 2         ┆           ┆   ┆ 4Z4\", \"B0 ┆ 1024, …   ┆ Games/PC/ ┆ 375, …   │\n",
       "│ 7FJZH5FXF ┆           ┆           ┆           ┆   ┆ 0002EPGU\" ┆ 8056]     ┆ Games\",   ┆ 375]     │\n",
       "│ A         ┆           ┆           ┆           ┆   ┆ , ……      ┆           ┆ \"Vide…    ┆          │\n",
       "│ …         ┆ …         ┆ …         ┆ …         ┆ … ┆ …         ┆ …         ┆ …         ┆ …        │\n",
       "│ AFEU5ICBM ┆ 60903     ┆ B002BB1Y3 ┆ 20408     ┆ … ┆ [\"B00YWIS ┆ [40626,   ┆ [\"#UNK\",  ┆ [1, 1]   │\n",
       "│ SOVZNFK2C ┆           ┆ I         ┆           ┆   ┆ RNS\", \"B0 ┆ 8571]     ┆ \"#UNK\"]   ┆          │\n",
       "│ DPEJA6XDU ┆           ┆           ┆           ┆   ┆ 001RBIGC\" ┆           ┆           ┆          │\n",
       "│ Q         ┆           ┆           ┆           ┆   ┆ ]         ┆           ┆           ┆          │\n",
       "│ AFEU5ICBM ┆ 60903     ┆ B01AWYNCG ┆ 43361     ┆ … ┆ [\"B00YWIS ┆ [40626,   ┆ [\"#UNK\",  ┆ [1, 1,   │\n",
       "│ SOVZNFK2C ┆           ┆ M         ┆           ┆   ┆ RNS\", \"B0 ┆ 8571,     ┆ \"#UNK\",   ┆ 76]      │\n",
       "│ DPEJA6XDU ┆           ┆           ┆           ┆   ┆ 001RBIGC\" ┆ 20408]    ┆ \"Video    ┆          │\n",
       "│ Q         ┆           ┆           ┆           ┆   ┆ , \"…      ┆           ┆ Games/…   ┆          │\n",
       "│ AFEU5ICBM ┆ 60903     ┆ B00SL64MO ┆ 39287     ┆ … ┆ [\"B00YWIS ┆ [40626,   ┆ [\"#UNK\",  ┆ [1, 1, … │\n",
       "│ SOVZNFK2C ┆           ┆ A         ┆           ┆   ┆ RNS\", \"B0 ┆ 8571, …   ┆ \"#UNK\", … ┆ 90]      │\n",
       "│ DPEJA6XDU ┆           ┆           ┆           ┆   ┆ 001RBIGC\" ┆ 43361]    ┆ \"Video    ┆          │\n",
       "│ Q         ┆           ┆           ┆           ┆   ┆ , ……      ┆           ┆ Game…     ┆          │\n",
       "│ AFEU5ICBM ┆ 60903     ┆ B06ZXYT5K ┆ 48773     ┆ … ┆ [\"B00YWIS ┆ [40626,   ┆ [\"#UNK\",  ┆ [1, 1, … │\n",
       "│ SOVZNFK2C ┆           ┆ J         ┆           ┆   ┆ RNS\", \"B0 ┆ 8571, …   ┆ \"#UNK\", … ┆ 1]       │\n",
       "│ DPEJA6XDU ┆           ┆           ┆           ┆   ┆ 001RBIGC\" ┆ 39287]    ┆ \"#UNK\"]   ┆          │\n",
       "│ Q         ┆           ┆           ┆           ┆   ┆ , ……      ┆           ┆           ┆          │\n",
       "│ AFEU5ICBM ┆ 60903     ┆ B01M9A3BC ┆ 46693     ┆ … ┆ [\"B00YWIS ┆ [40626,   ┆ [\"#UNK\",  ┆ [1, 1, … │\n",
       "│ SOVZNFK2C ┆           ┆ 1         ┆           ┆   ┆ RNS\", \"B0 ┆ 8571, …   ┆ \"#UNK\", … ┆ 75]      │\n",
       "│ DPEJA6XDU ┆           ┆           ┆           ┆   ┆ 001RBIGC\" ┆ 48773]    ┆ \"Video    ┆          │\n",
       "│ Q         ┆           ┆           ┆           ┆   ┆ , ……      ┆           ┆ Game…     ┆          │\n",
       "└───────────┴───────────┴───────────┴───────────┴───┴───────────┴───────────┴───────────┴──────────┘"
      ]
     },
     "execution_count": 10,
     "metadata": {},
     "output_type": "execute_result"
    }
   ],
   "source": [
    "train_df.filter(pl.col(\"history_category_index\").list.contains(1))"
   ]
  }
 ],
 "metadata": {
  "kernelspec": {
   "display_name": ".venv",
   "language": "python",
   "name": "python3"
  },
  "language_info": {
   "codemirror_mode": {
    "name": "ipython",
    "version": 3
   },
   "file_extension": ".py",
   "mimetype": "text/x-python",
   "name": "python",
   "nbconvert_exporter": "python",
   "pygments_lexer": "ipython3",
   "version": "3.12.5"
  }
 },
 "nbformat": 4,
 "nbformat_minor": 2
}
