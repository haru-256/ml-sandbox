{
 "cells": [
  {
   "cell_type": "code",
   "execution_count": 1,
   "metadata": {},
   "outputs": [],
   "source": [
    "%load_ext autoreload"
   ]
  },
  {
   "cell_type": "code",
   "execution_count": 2,
   "metadata": {},
   "outputs": [],
   "source": [
    "%autoreload 2\n",
    "\n",
    "import sys\n",
    "import polars as pl\n",
    "\n",
    "sys.path.append('..')\n",
    "\n",
    "from data.dataset import fetch_metadata, fetch_dataset, preprocess_dataset\n",
    "from config.const import SpecialIndex\n"
   ]
  },
  {
   "cell_type": "code",
   "execution_count": 3,
   "metadata": {},
   "outputs": [],
   "source": [
    "dataset = fetch_dataset()\n",
    "metadata = fetch_metadata()\n",
    "\n",
    "train_df, val_df, *_ = preprocess_dataset(dataset, metadata)"
   ]
  },
  {
   "cell_type": "code",
   "execution_count": 4,
   "metadata": {},
   "outputs": [
    {
     "data": {
      "text/html": [
       "<div><style>\n",
       ".dataframe > thead > tr,\n",
       ".dataframe > tbody > tr {\n",
       "  text-align: right;\n",
       "  white-space: pre-wrap;\n",
       "}\n",
       "</style>\n",
       "<small>shape: (5, 10)</small><table border=\"1\" class=\"dataframe\"><thead><tr><th>user_id</th><th>user_index</th><th>parent_asin</th><th>item_index</th><th>category</th><th>category_index</th><th>rating</th><th>timestamp</th><th>history</th><th>history_index</th></tr><tr><td>str</td><td>i64</td><td>str</td><td>i64</td><td>str</td><td>i64</td><td>f64</td><td>i64</td><td>list[str]</td><td>list[i64]</td></tr></thead><tbody><tr><td>&quot;AG6BAEKWLCWH2TW3KKLVK773YF6A&quot;</td><td>175401</td><td>&quot;B001AW156U&quot;</td><td>17482</td><td>null</td><td>1</td><td>4.0</td><td>1523314072900</td><td>[&quot;B0B36HX334&quot;]</td><td>[79632]</td></tr><tr><td>&quot;AEVPPTMG43C6GWSR7I2UGRQN7WFQ&quot;</td><td>71288</td><td>&quot;B0863MT183&quot;</td><td>67248</td><td>&quot;Video Games/PC/Virtual Reality…</td><td>396</td><td>4.0</td><td>1613701986538</td><td>[&quot;B08R5B7YS4&quot;]</td><td>[72161]</td></tr><tr><td>&quot;AEVPPTMG43C6GWSR7I2UGRQN7WFQ&quot;</td><td>71288</td><td>&quot;B08P8P7686&quot;</td><td>71655</td><td>&quot;Video Games/PC/Virtual Reality…</td><td>396</td><td>5.0</td><td>1613702112995</td><td>[&quot;B08R5B7YS4&quot;, &quot;B0863MT183&quot;]</td><td>[72161, 67248]</td></tr><tr><td>&quot;AEVPPTMG43C6GWSR7I2UGRQN7WFQ&quot;</td><td>71288</td><td>&quot;B0B7LV3DN2&quot;</td><td>80281</td><td>&quot;Video Games/PC/Virtual Reality…</td><td>396</td><td>4.0</td><td>1617641445475</td><td>[&quot;B08R5B7YS4&quot;, &quot;B0863MT183&quot;, &quot;B08P8P7686&quot;]</td><td>[72161, 67248, 71655]</td></tr><tr><td>&quot;AEVPPTMG43C6GWSR7I2UGRQN7WFQ&quot;</td><td>71288</td><td>&quot;B08SM7T6FF&quot;</td><td>72527</td><td>&quot;Video Games/PC&quot;</td><td>379</td><td>1.0</td><td>1619227636331</td><td>[&quot;B08R5B7YS4&quot;, &quot;B0863MT183&quot;, … &quot;B0B7LV3DN2&quot;]</td><td>[72161, 67248, … 80281]</td></tr></tbody></table></div>"
      ],
      "text/plain": [
       "shape: (5, 10)\n",
       "┌────────────┬────────────┬───────────┬───────────┬───┬────────┬───────────┬───────────┬───────────┐\n",
       "│ user_id    ┆ user_index ┆ parent_as ┆ item_inde ┆ … ┆ rating ┆ timestamp ┆ history   ┆ history_i │\n",
       "│ ---        ┆ ---        ┆ in        ┆ x         ┆   ┆ ---    ┆ ---       ┆ ---       ┆ ndex      │\n",
       "│ str        ┆ i64        ┆ ---       ┆ ---       ┆   ┆ f64    ┆ i64       ┆ list[str] ┆ ---       │\n",
       "│            ┆            ┆ str       ┆ i64       ┆   ┆        ┆           ┆           ┆ list[i64] │\n",
       "╞════════════╪════════════╪═══════════╪═══════════╪═══╪════════╪═══════════╪═══════════╪═══════════╡\n",
       "│ AG6BAEKWLC ┆ 175401     ┆ B001AW156 ┆ 17482     ┆ … ┆ 4.0    ┆ 152331407 ┆ [\"B0B36HX ┆ [79632]   │\n",
       "│ WH2TW3KKLV ┆            ┆ U         ┆           ┆   ┆        ┆ 2900      ┆ 334\"]     ┆           │\n",
       "│ K773YF6A   ┆            ┆           ┆           ┆   ┆        ┆           ┆           ┆           │\n",
       "│ AEVPPTMG43 ┆ 71288      ┆ B0863MT18 ┆ 67248     ┆ … ┆ 4.0    ┆ 161370198 ┆ [\"B08R5B7 ┆ [72161]   │\n",
       "│ C6GWSR7I2U ┆            ┆ 3         ┆           ┆   ┆        ┆ 6538      ┆ YS4\"]     ┆           │\n",
       "│ GRQN7WFQ   ┆            ┆           ┆           ┆   ┆        ┆           ┆           ┆           │\n",
       "│ AEVPPTMG43 ┆ 71288      ┆ B08P8P768 ┆ 71655     ┆ … ┆ 5.0    ┆ 161370211 ┆ [\"B08R5B7 ┆ [72161,   │\n",
       "│ C6GWSR7I2U ┆            ┆ 6         ┆           ┆   ┆        ┆ 2995      ┆ YS4\", \"B0 ┆ 67248]    │\n",
       "│ GRQN7WFQ   ┆            ┆           ┆           ┆   ┆        ┆           ┆ 863MT183\" ┆           │\n",
       "│            ┆            ┆           ┆           ┆   ┆        ┆           ┆ ]         ┆           │\n",
       "│ AEVPPTMG43 ┆ 71288      ┆ B0B7LV3DN ┆ 80281     ┆ … ┆ 4.0    ┆ 161764144 ┆ [\"B08R5B7 ┆ [72161,   │\n",
       "│ C6GWSR7I2U ┆            ┆ 2         ┆           ┆   ┆        ┆ 5475      ┆ YS4\", \"B0 ┆ 67248,    │\n",
       "│ GRQN7WFQ   ┆            ┆           ┆           ┆   ┆        ┆           ┆ 863MT183\" ┆ 71655]    │\n",
       "│            ┆            ┆           ┆           ┆   ┆        ┆           ┆ , \"…      ┆           │\n",
       "│ AEVPPTMG43 ┆ 71288      ┆ B08SM7T6F ┆ 72527     ┆ … ┆ 1.0    ┆ 161922763 ┆ [\"B08R5B7 ┆ [72161,   │\n",
       "│ C6GWSR7I2U ┆            ┆ F         ┆           ┆   ┆        ┆ 6331      ┆ YS4\", \"B0 ┆ 67248, …  │\n",
       "│ GRQN7WFQ   ┆            ┆           ┆           ┆   ┆        ┆           ┆ 863MT183\" ┆ 80281]    │\n",
       "│            ┆            ┆           ┆           ┆   ┆        ┆           ┆ , ……      ┆           │\n",
       "└────────────┴────────────┴───────────┴───────────┴───┴────────┴───────────┴───────────┴───────────┘"
      ]
     },
     "execution_count": 4,
     "metadata": {},
     "output_type": "execute_result"
    }
   ],
   "source": [
    "train_df.head()"
   ]
  }
 ],
 "metadata": {
  "kernelspec": {
   "display_name": ".venv",
   "language": "python",
   "name": "python3"
  },
  "language_info": {
   "codemirror_mode": {
    "name": "ipython",
    "version": 3
   },
   "file_extension": ".py",
   "mimetype": "text/x-python",
   "name": "python",
   "nbconvert_exporter": "python",
   "pygments_lexer": "ipython3",
   "version": "3.12.5"
  }
 },
 "nbformat": 4,
 "nbformat_minor": 2
}
