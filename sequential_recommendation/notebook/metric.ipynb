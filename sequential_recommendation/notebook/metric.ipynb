{
 "cells": [
  {
   "cell_type": "code",
   "execution_count": 1,
   "metadata": {},
   "outputs": [],
   "source": [
    "import torch\n",
    "from torchmetrics.retrieval import RetrievalHitRate"
   ]
  },
  {
   "cell_type": "code",
   "execution_count": 20,
   "metadata": {},
   "outputs": [
    {
     "name": "stdout",
     "output_type": "stream",
     "text": [
      "tensor([[0.1000, 0.2000, 0.3000, 0.4000],\n",
      "        [0.4000, 0.3000, 0.2000, 0.1000]])\n",
      "tensor([[ True, False, False, False],\n",
      "        [ True, False, False, False]])\n",
      "tensor([[0, 0, 0, 0],\n",
      "        [1, 1, 1, 1]])\n"
     ]
    },
    {
     "data": {
      "text/plain": [
       "tensor(0.5000)"
      ]
     },
     "execution_count": 20,
     "metadata": {},
     "output_type": "execute_result"
    }
   ],
   "source": [
    "hit_rate = RetrievalHitRate(top_k=3)\n",
    "\n",
    "pos_logits = torch.tensor([[0.1], [0.4]])\n",
    "neg_logits = torch.tensor([[0.2, 0.3, 0.4], [0.3, 0.2, 0.1]])\n",
    "logits = torch.cat([pos_logits, neg_logits], dim=1)\n",
    "target = torch.cat([torch.ones_like(pos_logits), torch.zeros_like(neg_logits)], dim=1).bool()\n",
    "batch_size, num_samples = logits.size()\n",
    "indexes = torch.arange(batch_size).reshape(batch_size, 1).expand(batch_size, num_samples)\n",
    "\n",
    "print(logits)\n",
    "print(target)\n",
    "print(indexes)\n",
    "\n",
    "hit_rate(logits, target, indexes)"
   ]
  }
 ],
 "metadata": {
  "kernelspec": {
   "display_name": ".venv",
   "language": "python",
   "name": "python3"
  },
  "language_info": {
   "codemirror_mode": {
    "name": "ipython",
    "version": 3
   },
   "file_extension": ".py",
   "mimetype": "text/x-python",
   "name": "python",
   "nbconvert_exporter": "python",
   "pygments_lexer": "ipython3",
   "version": "3.12.5"
  }
 },
 "nbformat": 4,
 "nbformat_minor": 2
}
