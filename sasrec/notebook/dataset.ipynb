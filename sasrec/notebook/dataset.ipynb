{
 "cells": [
  {
   "cell_type": "markdown",
   "metadata": {},
   "source": [
    "# Amazon Reviews 2023\n",
    "\n",
    "[Amazon Reviews 2023](https://github.com/hyp1231/AmazonReviews2023)\n"
   ]
  },
  {
   "cell_type": "code",
   "execution_count": 22,
   "metadata": {},
   "outputs": [],
   "source": [
    "import pathlib\n",
    "import sys\n",
    "\n",
    "import polars as pl\n",
    "\n",
    "sys.path.append(\"..\")\n",
    "\n",
    "from data.dataset import AmazonReviewsDataModule"
   ]
  },
  {
   "cell_type": "code",
   "execution_count": 2,
   "metadata": {},
   "outputs": [],
   "source": [
    "save_dir = pathlib.Path(\"../data/data\")\n",
    "if not save_dir.exists():\n",
    "    save_dir.mkdir(parents=True)\n",
    "\n",
    "datamodule = AmazonReviewsDataModule(save_dir, batch_size=32, num_workers=1, max_seq_len=50)"
   ]
  },
  {
   "cell_type": "code",
   "execution_count": 3,
   "metadata": {},
   "outputs": [],
   "source": [
    "datamodule.prepare_data()"
   ]
  },
  {
   "cell_type": "code",
   "execution_count": 4,
   "metadata": {},
   "outputs": [],
   "source": [
    "datamodule.setup(stage=\"fit\")"
   ]
  },
  {
   "cell_type": "code",
   "execution_count": 5,
   "metadata": {},
   "outputs": [
    {
     "data": {
      "text/plain": [
       "10304"
      ]
     },
     "execution_count": 5,
     "metadata": {},
     "output_type": "execute_result"
    }
   ],
   "source": [
    "val_dataloader = datamodule.val_dataloader()\n",
    "len(val_dataloader)"
   ]
  },
  {
   "cell_type": "code",
   "execution_count": 11,
   "metadata": {},
   "outputs": [
    {
     "data": {
      "text/plain": [
       "(329719, 715329)"
      ]
     },
     "execution_count": 11,
     "metadata": {},
     "output_type": "execute_result"
    }
   ],
   "source": [
    "(len(datamodule.val_dataset.df),)"
   ]
  },
  {
   "cell_type": "code",
   "execution_count": 21,
   "metadata": {},
   "outputs": [
    {
     "data": {
      "text/plain": [
       "(182215, 329719)"
      ]
     },
     "execution_count": 21,
     "metadata": {},
     "output_type": "execute_result"
    }
   ],
   "source": [
    "train_df = datamodule.train_dataset.df\n",
    "val_df = datamodule.val_dataset.df\n",
    "\n",
    "train = set(train_df[\"user_id\"].to_list())\n",
    "val = set(val_df[\"user_id\"].to_list())\n",
    "len(train), len(val)"
   ]
  },
  {
   "cell_type": "code",
   "execution_count": 20,
   "metadata": {},
   "outputs": [
    {
     "data": {
      "text/plain": [
       "'AF6MC6NVLOO55AFZZMUHFVTG64OA'"
      ]
     },
     "execution_count": 20,
     "metadata": {},
     "output_type": "execute_result"
    }
   ],
   "source": [
    "users = list(set(val_df[\"user_id\"].to_list()) & set(train_df[\"user_id\"].to_list()))\n",
    "\n",
    "user = users[0]\n",
    "user"
   ]
  },
  {
   "cell_type": "code",
   "execution_count": 23,
   "metadata": {},
   "outputs": [
    {
     "data": {
      "text/html": [
       "<div><style>\n",
       ".dataframe > thead > tr,\n",
       ".dataframe > tbody > tr {\n",
       "  text-align: right;\n",
       "  white-space: pre-wrap;\n",
       "}\n",
       "</style>\n",
       "<small>shape: (2, 8)</small><table border=\"1\" class=\"dataframe\"><thead><tr><th>user_id</th><th>user_index</th><th>parent_asin</th><th>item_index</th><th>rating</th><th>timestamp</th><th>history</th><th>history_index</th></tr><tr><td>str</td><td>i64</td><td>str</td><td>i64</td><td>f64</td><td>i64</td><td>list[str]</td><td>list[i64]</td></tr></thead><tbody><tr><td>&quot;AF6MC6NVLOO55AFZZMUHFVTG64OA&quot;</td><td>94262</td><td>&quot;B00005ML0X&quot;</td><td>4914</td><td>4.0</td><td>1484300215000</td><td>[&quot;B00E5UHSX8&quot;]</td><td>[35115]</td></tr><tr><td>&quot;AF6MC6NVLOO55AFZZMUHFVTG64OA&quot;</td><td>94262</td><td>&quot;B00MOQWBQ4&quot;</td><td>39690</td><td>5.0</td><td>1550928602154</td><td>[&quot;B00E5UHSX8&quot;, &quot;B00005ML0X&quot;]</td><td>[35115, 4914]</td></tr></tbody></table></div>"
      ],
      "text/plain": [
       "shape: (2, 8)\n",
       "┌────────────┬────────────┬────────────┬────────────┬────────┬────────────┬────────────┬───────────┐\n",
       "│ user_id    ┆ user_index ┆ parent_asi ┆ item_index ┆ rating ┆ timestamp  ┆ history    ┆ history_i │\n",
       "│ ---        ┆ ---        ┆ n          ┆ ---        ┆ ---    ┆ ---        ┆ ---        ┆ ndex      │\n",
       "│ str        ┆ i64        ┆ ---        ┆ i64        ┆ f64    ┆ i64        ┆ list[str]  ┆ ---       │\n",
       "│            ┆            ┆ str        ┆            ┆        ┆            ┆            ┆ list[i64] │\n",
       "╞════════════╪════════════╪════════════╪════════════╪════════╪════════════╪════════════╪═══════════╡\n",
       "│ AF6MC6NVLO ┆ 94262      ┆ B00005ML0X ┆ 4914       ┆ 4.0    ┆ 1484300215 ┆ [\"B00E5UHS ┆ [35115]   │\n",
       "│ O55AFZZMUH ┆            ┆            ┆            ┆        ┆ 000        ┆ X8\"]       ┆           │\n",
       "│ FVTG64OA   ┆            ┆            ┆            ┆        ┆            ┆            ┆           │\n",
       "│ AF6MC6NVLO ┆ 94262      ┆ B00MOQWBQ4 ┆ 39690      ┆ 5.0    ┆ 1550928602 ┆ [\"B00E5UHS ┆ [35115,   │\n",
       "│ O55AFZZMUH ┆            ┆            ┆            ┆        ┆ 154        ┆ X8\", \"B000 ┆ 4914]     │\n",
       "│ FVTG64OA   ┆            ┆            ┆            ┆        ┆            ┆ 05ML0X\"]   ┆           │\n",
       "└────────────┴────────────┴────────────┴────────────┴────────┴────────────┴────────────┴───────────┘"
      ]
     },
     "execution_count": 23,
     "metadata": {},
     "output_type": "execute_result"
    }
   ],
   "source": [
    "train_df.filter(pl.col(\"user_id\") == user)"
   ]
  },
  {
   "cell_type": "code",
   "execution_count": 24,
   "metadata": {},
   "outputs": [
    {
     "data": {
      "text/html": [
       "<div><style>\n",
       ".dataframe > thead > tr,\n",
       ".dataframe > tbody > tr {\n",
       "  text-align: right;\n",
       "  white-space: pre-wrap;\n",
       "}\n",
       "</style>\n",
       "<small>shape: (1, 8)</small><table border=\"1\" class=\"dataframe\"><thead><tr><th>user_id</th><th>user_index</th><th>parent_asin</th><th>item_index</th><th>rating</th><th>timestamp</th><th>history</th><th>history_index</th></tr><tr><td>str</td><td>i64</td><td>str</td><td>i64</td><td>f64</td><td>i64</td><td>list[str]</td><td>list[i64]</td></tr></thead><tbody><tr><td>&quot;AF6MC6NVLOO55AFZZMUHFVTG64OA&quot;</td><td>94262</td><td>&quot;B07YBX6T95&quot;</td><td>65202</td><td>5.0</td><td>1550929009380</td><td>[&quot;B00E5UHSX8&quot;, &quot;B00005ML0X&quot;, &quot;B00MOQWBQ4&quot;]</td><td>[35115, 4914, 39690]</td></tr></tbody></table></div>"
      ],
      "text/plain": [
       "shape: (1, 8)\n",
       "┌────────────┬────────────┬────────────┬────────────┬────────┬────────────┬────────────┬───────────┐\n",
       "│ user_id    ┆ user_index ┆ parent_asi ┆ item_index ┆ rating ┆ timestamp  ┆ history    ┆ history_i │\n",
       "│ ---        ┆ ---        ┆ n          ┆ ---        ┆ ---    ┆ ---        ┆ ---        ┆ ndex      │\n",
       "│ str        ┆ i64        ┆ ---        ┆ i64        ┆ f64    ┆ i64        ┆ list[str]  ┆ ---       │\n",
       "│            ┆            ┆ str        ┆            ┆        ┆            ┆            ┆ list[i64] │\n",
       "╞════════════╪════════════╪════════════╪════════════╪════════╪════════════╪════════════╪═══════════╡\n",
       "│ AF6MC6NVLO ┆ 94262      ┆ B07YBX6T95 ┆ 65202      ┆ 5.0    ┆ 1550929009 ┆ [\"B00E5UHS ┆ [35115,   │\n",
       "│ O55AFZZMUH ┆            ┆            ┆            ┆        ┆ 380        ┆ X8\", \"B000 ┆ 4914,     │\n",
       "│ FVTG64OA   ┆            ┆            ┆            ┆        ┆            ┆ 05ML0X\",   ┆ 39690]    │\n",
       "│            ┆            ┆            ┆            ┆        ┆            ┆ \"…         ┆           │\n",
       "└────────────┴────────────┴────────────┴────────────┴────────┴────────────┴────────────┴───────────┘"
      ]
     },
     "execution_count": 24,
     "metadata": {},
     "output_type": "execute_result"
    }
   ],
   "source": [
    "val_df.filter(pl.col(\"user_id\") == user)"
   ]
  },
  {
   "cell_type": "code",
   "execution_count": 29,
   "metadata": {},
   "outputs": [
    {
     "data": {
      "text/plain": [
       "True"
      ]
     },
     "execution_count": 29,
     "metadata": {},
     "output_type": "execute_result"
    }
   ],
   "source": [
    "val_df[\"user_id\"].n_unique() == len(val_df)"
   ]
  }
 ],
 "metadata": {
  "kernelspec": {
   "display_name": ".venv",
   "language": "python",
   "name": "python3"
  },
  "language_info": {
   "codemirror_mode": {
    "name": "ipython",
    "version": 3
   },
   "file_extension": ".py",
   "mimetype": "text/x-python",
   "name": "python",
   "nbconvert_exporter": "python",
   "pygments_lexer": "ipython3",
   "version": "3.12.5"
  }
 },
 "nbformat": 4,
 "nbformat_minor": 2
}
