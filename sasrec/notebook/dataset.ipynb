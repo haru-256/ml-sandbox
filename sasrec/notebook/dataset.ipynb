{
 "cells": [
  {
   "cell_type": "markdown",
   "metadata": {},
   "source": [
    "# Amazon Reviews 2023\n",
    "\n",
    "[Amazon Reviews 2023](https://github.com/hyp1231/AmazonReviews2023)\n"
   ]
  },
  {
   "cell_type": "code",
   "execution_count": 1,
   "metadata": {},
   "outputs": [],
   "source": [
    "import pathlib\n",
    "import sys\n",
    "\n",
    "sys.path.append(\"..\")\n",
    "\n",
    "from data.dataset import AmazonReviewsDataModule"
   ]
  },
  {
   "cell_type": "code",
   "execution_count": 2,
   "metadata": {},
   "outputs": [],
   "source": [
    "save_dir = pathlib.Path(\"../data/data\")\n",
    "if not save_dir.exists():\n",
    "    save_dir.mkdir(parents=True)\n",
    "\n",
    "datamodule = AmazonReviewsDataModule(save_dir, batch_size=32, num_workers=1, max_seq_len=50)"
   ]
  },
  {
   "cell_type": "code",
   "execution_count": 3,
   "metadata": {},
   "outputs": [],
   "source": [
    "datamodule.prepare_data()"
   ]
  },
  {
   "cell_type": "code",
   "execution_count": 4,
   "metadata": {},
   "outputs": [],
   "source": [
    "datamodule.setup(stage=\"fit\")"
   ]
  },
  {
   "cell_type": "code",
   "execution_count": 5,
   "metadata": {},
   "outputs": [],
   "source": [
    "train_dataloader = datamodule.train_dataloader()\n",
    "user_index, item_history, pos_item_index, neg_item_indexes = next(iter(train_dataloader))"
   ]
  },
  {
   "cell_type": "code",
   "execution_count": 6,
   "metadata": {},
   "outputs": [
    {
     "data": {
      "text/plain": [
       "(torch.Size([32]),\n",
       " tensor([170313,  34660, 234243, 245991, 180018,  49481,  50468, 105880, 130118,\n",
       "         241866, 126983, 310465, 236558,  38555, 324749, 272033, 232854, 188085,\n",
       "         258581,  28112,   4437, 139541, 112355, 288430,  29657, 298257, 233793,\n",
       "          55441, 244881,  49188, 211247, 208047]))"
      ]
     },
     "execution_count": 6,
     "metadata": {},
     "output_type": "execute_result"
    }
   ],
   "source": [
    "user_index.size(), user_index"
   ]
  },
  {
   "cell_type": "code",
   "execution_count": 7,
   "metadata": {},
   "outputs": [
    {
     "data": {
      "text/plain": [
       "(torch.Size([32, 50]),\n",
       " tensor([[    0,     0,     0,  ..., 81180, 81230, 78060],\n",
       "         [    0,     0,     0,  ..., 33608, 45980, 65217],\n",
       "         [    0,     0,     0,  ..., 51895, 47340, 45663],\n",
       "         ...,\n",
       "         [    0,     0,     0,  ...,     0,     0, 30960],\n",
       "         [    0,     0,     0,  ..., 25333, 30215, 32125],\n",
       "         [    0,     0,     0,  ..., 24588, 25259, 11664]]))"
      ]
     },
     "execution_count": 7,
     "metadata": {},
     "output_type": "execute_result"
    }
   ],
   "source": [
    "item_history.size(), item_history"
   ]
  },
  {
   "cell_type": "code",
   "execution_count": 8,
   "metadata": {},
   "outputs": [
    {
     "data": {
      "text/plain": [
       "(torch.Size([32, 1]),\n",
       " tensor([[82332],\n",
       "         [64459],\n",
       "         [77277],\n",
       "         [  534],\n",
       "         [56044],\n",
       "         [27130],\n",
       "         [48240],\n",
       "         [34858],\n",
       "         [31103],\n",
       "         [42465],\n",
       "         [52537],\n",
       "         [48244],\n",
       "         [37864],\n",
       "         [67463],\n",
       "         [26381],\n",
       "         [48412],\n",
       "         [49332],\n",
       "         [30771],\n",
       "         [23415],\n",
       "         [32091],\n",
       "         [21866],\n",
       "         [29889],\n",
       "         [65065],\n",
       "         [65215],\n",
       "         [ 2913],\n",
       "         [65198],\n",
       "         [ 4762],\n",
       "         [66527],\n",
       "         [42824],\n",
       "         [31285],\n",
       "         [50063],\n",
       "         [ 2666]]))"
      ]
     },
     "execution_count": 8,
     "metadata": {},
     "output_type": "execute_result"
    }
   ],
   "source": [
    "pos_item_index.size(), pos_item_index"
   ]
  },
  {
   "cell_type": "code",
   "execution_count": 9,
   "metadata": {},
   "outputs": [
    {
     "data": {
      "text/plain": [
       "(torch.Size([32, 5]),\n",
       " tensor([[50314, 14280, 42116, 49771, 51858],\n",
       "         [19387, 79439, 41085, 47676, 36268],\n",
       "         [34606, 63928, 69459, 71334, 48222],\n",
       "         [21964, 73734, 58313, 72845,  8105],\n",
       "         [27152,  9384, 29102, 14920, 46210],\n",
       "         [43482, 56296, 69703,  6161,  3891],\n",
       "         [48813, 44161, 25286, 38134, 49781],\n",
       "         [38780, 35000, 25593, 17367,  6887],\n",
       "         [49173, 13792, 72754, 63512,   246],\n",
       "         [17235, 53910,  4025, 60722, 15808],\n",
       "         [ 9193, 36803, 34118, 72528, 23734],\n",
       "         [76797,  4093, 80240, 49468, 12822],\n",
       "         [55264, 12498, 25115,  7925,   525],\n",
       "         [ 5797, 37722, 66660, 33774, 20282],\n",
       "         [18481, 46174, 62491, 45904, 50525],\n",
       "         [13241, 15860, 47811, 39947, 22024],\n",
       "         [  908, 45420, 44068, 18966, 46519],\n",
       "         [41257, 62879, 35134, 74137, 55947],\n",
       "         [76857, 66120, 19556, 12129, 26526],\n",
       "         [43794, 38313, 51585, 50949, 38808],\n",
       "         [37723, 36366, 16529, 26254,  4126],\n",
       "         [78667, 19366, 49197, 34112,  2658],\n",
       "         [82998, 30317,  7481, 21475, 81386],\n",
       "         [53633, 21526, 82876, 29382,  8136],\n",
       "         [39125, 62777, 64508, 34250, 47307],\n",
       "         [49160, 14166, 41804, 44628, 21237],\n",
       "         [79629, 67645, 66858, 22706, 74062],\n",
       "         [47129, 23958, 78272,  6609,  3135],\n",
       "         [75815, 13700, 63131, 59456, 81555],\n",
       "         [24480, 16091, 56675, 37266, 78707],\n",
       "         [25369, 40104, 46285, 60723, 60272],\n",
       "         [59763, 15005, 31092, 79318, 50878]]))"
      ]
     },
     "execution_count": 9,
     "metadata": {},
     "output_type": "execute_result"
    }
   ],
   "source": [
    "neg_item_indexes.size(), neg_item_indexes"
   ]
  }
 ],
 "metadata": {
  "kernelspec": {
   "display_name": ".venv",
   "language": "python",
   "name": "python3"
  },
  "language_info": {
   "codemirror_mode": {
    "name": "ipython",
    "version": 3
   },
   "file_extension": ".py",
   "mimetype": "text/x-python",
   "name": "python",
   "nbconvert_exporter": "python",
   "pygments_lexer": "ipython3",
   "version": "3.12.5"
  }
 },
 "nbformat": 4,
 "nbformat_minor": 2
}
